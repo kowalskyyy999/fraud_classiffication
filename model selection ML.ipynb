{
 "cells": [
  {
   "cell_type": "code",
   "execution_count": 1,
   "metadata": {},
   "outputs": [],
   "source": [
    "from __future__ import print_function, unicode_literals, division, absolute_import\n",
    "\n",
    "import os \n",
    "import pandas as pd \n",
    "import numpy as np \n",
    "import matplotlib.pyplot as plt \n",
    "import seaborn as sns \n",
    "import time \n",
    "from scipy.stats import norm \n",
    "from scipy import stats\n",
    "import random\n",
    "\n",
    "%matplotlib inline"
   ]
  },
  {
   "cell_type": "code",
   "execution_count": 2,
   "metadata": {},
   "outputs": [
    {
     "data": {
      "text/html": [
       "<div>\n",
       "<style scoped>\n",
       "    .dataframe tbody tr th:only-of-type {\n",
       "        vertical-align: middle;\n",
       "    }\n",
       "\n",
       "    .dataframe tbody tr th {\n",
       "        vertical-align: top;\n",
       "    }\n",
       "\n",
       "    .dataframe thead th {\n",
       "        text-align: right;\n",
       "    }\n",
       "</style>\n",
       "<table border=\"1\" class=\"dataframe\">\n",
       "  <thead>\n",
       "    <tr style=\"text-align: right;\">\n",
       "      <th></th>\n",
       "      <th>Time</th>\n",
       "      <th>V1</th>\n",
       "      <th>V2</th>\n",
       "      <th>V3</th>\n",
       "      <th>V4</th>\n",
       "      <th>V5</th>\n",
       "      <th>V6</th>\n",
       "      <th>V7</th>\n",
       "      <th>V8</th>\n",
       "      <th>V9</th>\n",
       "      <th>...</th>\n",
       "      <th>V21</th>\n",
       "      <th>V22</th>\n",
       "      <th>V23</th>\n",
       "      <th>V24</th>\n",
       "      <th>V25</th>\n",
       "      <th>V26</th>\n",
       "      <th>V27</th>\n",
       "      <th>V28</th>\n",
       "      <th>Amount</th>\n",
       "      <th>Class</th>\n",
       "    </tr>\n",
       "  </thead>\n",
       "  <tbody>\n",
       "    <tr>\n",
       "      <th>0</th>\n",
       "      <td>0.0</td>\n",
       "      <td>-1.359807</td>\n",
       "      <td>-0.072781</td>\n",
       "      <td>2.536347</td>\n",
       "      <td>1.378155</td>\n",
       "      <td>-0.338321</td>\n",
       "      <td>0.462388</td>\n",
       "      <td>0.239599</td>\n",
       "      <td>0.098698</td>\n",
       "      <td>0.363787</td>\n",
       "      <td>...</td>\n",
       "      <td>-0.018307</td>\n",
       "      <td>0.277838</td>\n",
       "      <td>-0.110474</td>\n",
       "      <td>0.066928</td>\n",
       "      <td>0.128539</td>\n",
       "      <td>-0.189115</td>\n",
       "      <td>0.133558</td>\n",
       "      <td>-0.021053</td>\n",
       "      <td>149.62</td>\n",
       "      <td>0</td>\n",
       "    </tr>\n",
       "    <tr>\n",
       "      <th>1</th>\n",
       "      <td>0.0</td>\n",
       "      <td>1.191857</td>\n",
       "      <td>0.266151</td>\n",
       "      <td>0.166480</td>\n",
       "      <td>0.448154</td>\n",
       "      <td>0.060018</td>\n",
       "      <td>-0.082361</td>\n",
       "      <td>-0.078803</td>\n",
       "      <td>0.085102</td>\n",
       "      <td>-0.255425</td>\n",
       "      <td>...</td>\n",
       "      <td>-0.225775</td>\n",
       "      <td>-0.638672</td>\n",
       "      <td>0.101288</td>\n",
       "      <td>-0.339846</td>\n",
       "      <td>0.167170</td>\n",
       "      <td>0.125895</td>\n",
       "      <td>-0.008983</td>\n",
       "      <td>0.014724</td>\n",
       "      <td>2.69</td>\n",
       "      <td>0</td>\n",
       "    </tr>\n",
       "    <tr>\n",
       "      <th>2</th>\n",
       "      <td>1.0</td>\n",
       "      <td>-1.358354</td>\n",
       "      <td>-1.340163</td>\n",
       "      <td>1.773209</td>\n",
       "      <td>0.379780</td>\n",
       "      <td>-0.503198</td>\n",
       "      <td>1.800499</td>\n",
       "      <td>0.791461</td>\n",
       "      <td>0.247676</td>\n",
       "      <td>-1.514654</td>\n",
       "      <td>...</td>\n",
       "      <td>0.247998</td>\n",
       "      <td>0.771679</td>\n",
       "      <td>0.909412</td>\n",
       "      <td>-0.689281</td>\n",
       "      <td>-0.327642</td>\n",
       "      <td>-0.139097</td>\n",
       "      <td>-0.055353</td>\n",
       "      <td>-0.059752</td>\n",
       "      <td>378.66</td>\n",
       "      <td>0</td>\n",
       "    </tr>\n",
       "    <tr>\n",
       "      <th>3</th>\n",
       "      <td>1.0</td>\n",
       "      <td>-0.966272</td>\n",
       "      <td>-0.185226</td>\n",
       "      <td>1.792993</td>\n",
       "      <td>-0.863291</td>\n",
       "      <td>-0.010309</td>\n",
       "      <td>1.247203</td>\n",
       "      <td>0.237609</td>\n",
       "      <td>0.377436</td>\n",
       "      <td>-1.387024</td>\n",
       "      <td>...</td>\n",
       "      <td>-0.108300</td>\n",
       "      <td>0.005274</td>\n",
       "      <td>-0.190321</td>\n",
       "      <td>-1.175575</td>\n",
       "      <td>0.647376</td>\n",
       "      <td>-0.221929</td>\n",
       "      <td>0.062723</td>\n",
       "      <td>0.061458</td>\n",
       "      <td>123.50</td>\n",
       "      <td>0</td>\n",
       "    </tr>\n",
       "    <tr>\n",
       "      <th>4</th>\n",
       "      <td>2.0</td>\n",
       "      <td>-1.158233</td>\n",
       "      <td>0.877737</td>\n",
       "      <td>1.548718</td>\n",
       "      <td>0.403034</td>\n",
       "      <td>-0.407193</td>\n",
       "      <td>0.095921</td>\n",
       "      <td>0.592941</td>\n",
       "      <td>-0.270533</td>\n",
       "      <td>0.817739</td>\n",
       "      <td>...</td>\n",
       "      <td>-0.009431</td>\n",
       "      <td>0.798278</td>\n",
       "      <td>-0.137458</td>\n",
       "      <td>0.141267</td>\n",
       "      <td>-0.206010</td>\n",
       "      <td>0.502292</td>\n",
       "      <td>0.219422</td>\n",
       "      <td>0.215153</td>\n",
       "      <td>69.99</td>\n",
       "      <td>0</td>\n",
       "    </tr>\n",
       "  </tbody>\n",
       "</table>\n",
       "<p>5 rows × 31 columns</p>\n",
       "</div>"
      ],
      "text/plain": [
       "   Time        V1        V2        V3        V4        V5        V6        V7  \\\n",
       "0   0.0 -1.359807 -0.072781  2.536347  1.378155 -0.338321  0.462388  0.239599   \n",
       "1   0.0  1.191857  0.266151  0.166480  0.448154  0.060018 -0.082361 -0.078803   \n",
       "2   1.0 -1.358354 -1.340163  1.773209  0.379780 -0.503198  1.800499  0.791461   \n",
       "3   1.0 -0.966272 -0.185226  1.792993 -0.863291 -0.010309  1.247203  0.237609   \n",
       "4   2.0 -1.158233  0.877737  1.548718  0.403034 -0.407193  0.095921  0.592941   \n",
       "\n",
       "         V8        V9  ...       V21       V22       V23       V24       V25  \\\n",
       "0  0.098698  0.363787  ... -0.018307  0.277838 -0.110474  0.066928  0.128539   \n",
       "1  0.085102 -0.255425  ... -0.225775 -0.638672  0.101288 -0.339846  0.167170   \n",
       "2  0.247676 -1.514654  ...  0.247998  0.771679  0.909412 -0.689281 -0.327642   \n",
       "3  0.377436 -1.387024  ... -0.108300  0.005274 -0.190321 -1.175575  0.647376   \n",
       "4 -0.270533  0.817739  ... -0.009431  0.798278 -0.137458  0.141267 -0.206010   \n",
       "\n",
       "        V26       V27       V28  Amount  Class  \n",
       "0 -0.189115  0.133558 -0.021053  149.62      0  \n",
       "1  0.125895 -0.008983  0.014724    2.69      0  \n",
       "2 -0.139097 -0.055353 -0.059752  378.66      0  \n",
       "3 -0.221929  0.062723  0.061458  123.50      0  \n",
       "4  0.502292  0.219422  0.215153   69.99      0  \n",
       "\n",
       "[5 rows x 31 columns]"
      ]
     },
     "execution_count": 2,
     "metadata": {},
     "output_type": "execute_result"
    }
   ],
   "source": [
    "path = 'data'\n",
    "df = pd.read_csv(path + \"/creditcard.csv\")\n",
    "df.head()"
   ]
  },
  {
   "cell_type": "markdown",
   "metadata": {},
   "source": [
    "### Heatmap"
   ]
  },
  {
   "cell_type": "code",
   "execution_count": 3,
   "metadata": {},
   "outputs": [
    {
     "data": {
      "image/png": "[encoded data removed]",
      "text/plain": [
       "<Figure size 1440x1440 with 2 Axes>"
      ]
     },
     "metadata": {
      "needs_background": "light"
     },
     "output_type": "display_data"
    }
   ],
   "source": [
    "fig = plt.figure(figsize=(20, 20))\n",
    "sns.heatmap(df.corr(), annot=True, cmap=plt.cm.Reds_r)\n",
    "plt.show()"
   ]
  },
  {
   "cell_type": "code",
   "execution_count": 4,
   "metadata": {},
   "outputs": [
    {
     "data": {
      "image/png": "[encoded data removed]",
      "text/plain": [
       "<Figure size 1440x720 with 36 Axes>"
      ]
     },
     "metadata": {
      "needs_background": "light"
     },
     "output_type": "display_data"
    }
   ],
   "source": [
    "df.hist(bins=20, figsize=(20, 10))\n",
    "plt.show()"
   ]
  },
  {
   "cell_type": "code",
   "execution_count": 5,
   "metadata": {},
   "outputs": [
    {
     "data": {
      "text/plain": [
       "<matplotlib.axes._subplots.AxesSubplot at 0x258043f6940>"
      ]
     },
     "execution_count": 5,
     "metadata": {},
     "output_type": "execute_result"
    },
    {
     "data": {
      "image/png": "[encoded data removed]",
      "text/plain": [
       "<Figure size 432x288 with 1 Axes>"
      ]
     },
     "metadata": {
      "needs_background": "light"
     },
     "output_type": "display_data"
    }
   ],
   "source": [
    "## mendeteksi outlier menggunakan boxplot\n",
    "## dengan contoh \"V1\"\n",
    "\n",
    "sns.boxplot(y=df['V1'])"
   ]
  },
  {
   "cell_type": "code",
   "execution_count": 6,
   "metadata": {},
   "outputs": [
    {
     "name": "stdout",
     "output_type": "stream",
     "text": [
      "count    2.848070e+05\n",
      "mean     3.919560e-15\n",
      "std      1.958696e+00\n",
      "min     -5.640751e+01\n",
      "25%     -9.203734e-01\n",
      "50%      1.810880e-02\n",
      "75%      1.315642e+00\n",
      "max      2.454930e+00\n",
      "Name: V1, dtype: float64\n"
     ]
    },
    {
     "data": {
      "text/plain": [
       "[<matplotlib.lines.Line2D at 0x258046f89e8>]"
      ]
     },
     "execution_count": 6,
     "metadata": {},
     "output_type": "execute_result"
    },
    {
     "data": {
      "image/png": "[encoded data removed]",
      "text/plain": [
       "<Figure size 432x288 with 1 Axes>"
      ]
     },
     "metadata": {
      "needs_background": "light"
     },
     "output_type": "display_data"
    }
   ],
   "source": [
    "print(df['V1'].describe())\n",
    "\n",
    "plt.hist(df['V1'], bins=20, density=True)\n",
    "\n",
    "rng = np.arange(df['V1'].min(), df['V1'].max(), 0.1)\n",
    "plt.plot(rng, norm.pdf(rng, df['V1'].mean(), df['V1'].std()))\n"
   ]
  },
  {
   "cell_type": "markdown",
   "metadata": {},
   "source": [
    "## Hapus Outlier"
   ]
  },
  {
   "cell_type": "code",
   "execution_count": 7,
   "metadata": {},
   "outputs": [
    {
     "data": {
      "image/png": "[encoded data removed]",
      "text/plain": [
       "<Figure size 1440x720 with 36 Axes>"
      ]
     },
     "metadata": {
      "needs_background": "light"
     },
     "output_type": "display_data"
    }
   ],
   "source": [
    "z_score = np.abs(stats.zscore(df.drop(['Time', 'Class'], axis=1)))\n",
    "\n",
    "df_no_outlier = df[((z_score < 3).all(axis=1)) & ((z_score > -3).all(axis=1))]  # menggunakan std 3\n",
    "df_no_outlier.hist(bins=20, figsize=(20, 10))\n",
    "plt.show()"
   ]
  },
  {
   "cell_type": "code",
   "execution_count": 8,
   "metadata": {},
   "outputs": [
    {
     "name": "stdout",
     "output_type": "stream",
     "text": [
      "0    246943\n",
      "1        48\n",
      "Name: Class, dtype: int64\n"
     ]
    },
    {
     "data": {
      "image/png": "[encoded data removed]",
      "text/plain": [
       "<Figure size 432x288 with 1 Axes>"
      ]
     },
     "metadata": {
      "needs_background": "light"
     },
     "output_type": "display_data"
    }
   ],
   "source": [
    "print(df_no_outlier['Class'].value_counts())\n",
    "sns.countplot(df_no_outlier['Class'])\n",
    "plt.show()"
   ]
  },
  {
   "cell_type": "markdown",
   "metadata": {},
   "source": [
    "setelah dilakukan penghapusan outlier, terjadi ketidak seimbangan data. berdasrkan gambar diatas bahwa jumlah class 0 dan 1 mengalami penjomplangan data yang besar. class 0 sebesar 246943 dan class 1 sebesar 48"
   ]
  },
  {
   "cell_type": "markdown",
   "metadata": {},
   "source": [
    "Pada kasus ini, dilakukan beberapa percobaan yaitu dengan membedakan data secara imbalanced data dan balanced data dan membedakan data dengan pemilihan(seleksi)/fiilter fitur yang dominan dan dengan tanpa metode seleksi fitur"
   ]
  },
  {
   "cell_type": "markdown",
   "metadata": {},
   "source": [
    "## Import library"
   ]
  },
  {
   "cell_type": "code",
   "execution_count": 9,
   "metadata": {},
   "outputs": [],
   "source": [
    "import sklearn\n",
    "from sklearn.model_selection import cross_val_score, cross_val_predict, train_test_split\n",
    "from sklearn.model_selection import KFold, ShuffleSplit, StratifiedKFold\n",
    "from sklearn.preprocessing import StandardScaler\n",
    "from sklearn.linear_model import LogisticRegression, SGDClassifier\n",
    "from sklearn.svm import LinearSVC\n",
    "from sklearn.tree import DecisionTreeClassifier\n",
    "from sklearn.neighbors import KNeighborsClassifier\n",
    "from sklearn.ensemble import RandomForestClassifier\n",
    "from sklearn.feature_selection import SelectKBest, f_classif\n",
    "from sklearn.utils import resample"
   ]
  },
  {
   "cell_type": "markdown",
   "metadata": {},
   "source": [
    "## Func feature selection"
   ]
  },
  {
   "cell_type": "code",
   "execution_count": 10,
   "metadata": {},
   "outputs": [],
   "source": [
    "def feature_selection(X, y, func):\n",
    "    fs = SelectKBest(score_func=func, k='all')\n",
    "    fs.fit(X, y)\n",
    "    select = fs.transform(X)\n",
    "    \n",
    "    cols = list(X.columns)\n",
    "\n",
    "    temp = []\n",
    "    selected_features = []\n",
    "    \n",
    "    for i in range(len(fs.scores_)):\n",
    "        temp.append(fs.scores_[i])\n",
    "    \n",
    "    score_min = np.mean(temp)        \n",
    "    \n",
    "    for i in range(len(fs.scores_)):\n",
    "        if fs.scores_[i] >= score_min:\n",
    "            print(f'Features Selected {cols[i]} : {fs.scores_[i]}')\n",
    "            selected_features.append(cols[i])\n",
    "            \n",
    "    plt.bar([i for i in range(len(fs.scores_))], fs.scores_)\n",
    "    plt.show()\n",
    "    \n",
    "    return selected_features"
   ]
  },
  {
   "cell_type": "markdown",
   "metadata": {},
   "source": [
    "## Func train split"
   ]
  },
  {
   "cell_type": "code",
   "execution_count": 17,
   "metadata": {},
   "outputs": [],
   "source": [
    "def train_split(model, X, y, test_size, random_state, scaler = False):\n",
    "    X_train, X_test, y_train, y_test = train_test_split(X, y, test_size=test_size, random_state=random_state)\n",
    "    print('No Scaling !!!')\n",
    "    if scaler:\n",
    "        print('Scaling')\n",
    "        sc = StandardScaler()\n",
    "        X_train = sc.fit_transform(X_train)\n",
    "        X_test = sc.transform(X_test)\n",
    "    \n",
    "    model.fit(X_train, y_train)\n",
    "    train_score = model.score(X_train, y_train)\n",
    "    test_score = model.score(X_test, y_test)\n",
    "    print(\"Accuracy train: %.3f%%\\tAccuracy test: %.3f%%\"%(train_score*100.0, test_score*100.0))\n",
    "    return train_score, test_score"
   ]
  },
  {
   "cell_type": "markdown",
   "metadata": {},
   "source": [
    "## Func cross validation"
   ]
  },
  {
   "cell_type": "code",
   "execution_count": 19,
   "metadata": {},
   "outputs": [],
   "source": [
    "def model_cross_valid(model, X, y, n_split, random_state, imbalanced=False, scaler=False):\n",
    "    print('No Scaling !!!')\n",
    "    \n",
    "    if scaler:\n",
    "        print('Scaling !!!')\n",
    "        sc = StandardScaler()\n",
    "        X = sc.fit_transform(X)\n",
    "    \n",
    "    if imbalanced:\n",
    "        # cv = ShuffleSplit(n_splits=n_split, test_size=test_size, random_state=random_state)\n",
    "        cv = StratifiedKFold(n_splits=n_split, random_state=random_state)\n",
    "    else:\n",
    "        cv = KFold(n_splits=n_split, random_state=random_state)\n",
    "        \n",
    "    results = cross_val_score(model, X, y, cv=cv, scoring='roc_auc', n_jobs=-1)\n",
    "    print('Accuracy : %.3f%% (%.3f%%)' %(np.mean(results)*100, np.std(results)*100))\n",
    "    \n",
    "    return np.mean(results), np.std(results)\n",
    "    "
   ]
  },
  {
   "cell_type": "markdown",
   "metadata": {},
   "source": [
    "## Model Selection"
   ]
  },
  {
   "cell_type": "code",
   "execution_count": 14,
   "metadata": {},
   "outputs": [],
   "source": [
    "lr = LogisticRegression()\n",
    "sgd = SGDClassifier()\n",
    "l_svc = LinearSVC()\n",
    "tree = DecisionTreeClassifier()\n",
    "knn = KNeighborsClassifier()\n",
    "r_forest = RandomForestClassifier()\n",
    "\n",
    "clfs = [lr, sgd, l_svc, tree, knn]"
   ]
  },
  {
   "cell_type": "markdown",
   "metadata": {},
   "source": [
    "## Work in imbalanced data"
   ]
  },
  {
   "cell_type": "code",
   "execution_count": 15,
   "metadata": {},
   "outputs": [],
   "source": [
    "df_imbalanced_data = df_no_outlier.copy()"
   ]
  },
  {
   "cell_type": "markdown",
   "metadata": {},
   "source": [
    "### 1. No Feature Selection"
   ]
  },
  {
   "cell_type": "code",
   "execution_count": 16,
   "metadata": {},
   "outputs": [],
   "source": [
    "X = df_imbalanced_data.drop(['Time','Class'], axis=1)\n",
    "y = df_imbalanced_data['Class'].values"
   ]
  },
  {
   "cell_type": "markdown",
   "metadata": {},
   "source": [
    "#### a. using func train_split"
   ]
  },
  {
   "cell_type": "code",
   "execution_count": 18,
   "metadata": {},
   "outputs": [
    {
     "name": "stdout",
     "output_type": "stream",
     "text": [
      "Model LogisticRegression()\n",
      "No Scaling !!!\n"
     ]
    },
    {
     "name": "stderr",
     "output_type": "stream",
     "text": [
      "C:\\Users\\acer\\Anaconda3\\envs\\python\\lib\\site-packages\\sklearn\\linear_model\\_logistic.py:764: ConvergenceWarning: lbfgs failed to converge (status=1):\n",
      "STOP: TOTAL NO. of ITERATIONS REACHED LIMIT.\n",
      "\n",
      "Increase the number of iterations (max_iter) or scale the data as shown in:\n",
      "    https://scikit-learn.org/stable/modules/preprocessing.html\n",
      "Please also refer to the documentation for alternative solver options:\n",
      "    https://scikit-learn.org/stable/modules/linear_model.html#logistic-regression\n",
      "  extra_warning_msg=_LOGISTIC_SOLVER_CONVERGENCE_MSG)\n"
     ]
    },
    {
     "name": "stdout",
     "output_type": "stream",
     "text": [
      "Accuracy train: 99.982%\tAccuracy test: 99.976%\n",
      "Times model LogisticRegression() needed is 5.6318089962005615 \n",
      "\n",
      "\n",
      "Model SGDClassifier()\n",
      "No Scaling !!!\n",
      "Accuracy train: 99.982%\tAccuracy test: 99.976%\n",
      "Times model SGDClassifier() needed is 2.217010498046875 \n",
      "\n",
      "\n",
      "Model LinearSVC()\n",
      "No Scaling !!!\n"
     ]
    },
    {
     "name": "stderr",
     "output_type": "stream",
     "text": [
      "C:\\Users\\acer\\Anaconda3\\envs\\python\\lib\\site-packages\\sklearn\\svm\\_base.py:977: ConvergenceWarning: Liblinear failed to converge, increase the number of iterations.\n",
      "  \"the number of iterations.\", ConvergenceWarning)\n"
     ]
    },
    {
     "name": "stdout",
     "output_type": "stream",
     "text": [
      "Accuracy train: 99.982%\tAccuracy test: 99.976%\n",
      "Times model LinearSVC() needed is 89.82534408569336 \n",
      "\n",
      "\n",
      "Model DecisionTreeClassifier()\n",
      "No Scaling !!!\n",
      "Accuracy train: 100.000%\tAccuracy test: 99.955%\n",
      "Times model DecisionTreeClassifier() needed is 22.752726316452026 \n",
      "\n",
      "\n",
      "Model KNeighborsClassifier()\n",
      "No Scaling !!!\n",
      "Accuracy train: 99.982%\tAccuracy test: 99.976%\n",
      "Times model KNeighborsClassifier() needed is 347.18906831741333 \n",
      "\n",
      "\n"
     ]
    },
    {
     "data": {
      "text/html": [
       "<div>\n",
       "<style scoped>\n",
       "    .dataframe tbody tr th:only-of-type {\n",
       "        vertical-align: middle;\n",
       "    }\n",
       "\n",
       "    .dataframe tbody tr th {\n",
       "        vertical-align: top;\n",
       "    }\n",
       "\n",
       "    .dataframe thead th {\n",
       "        text-align: right;\n",
       "    }\n",
       "</style>\n",
       "<table border=\"1\" class=\"dataframe\">\n",
       "  <thead>\n",
       "    <tr style=\"text-align: right;\">\n",
       "      <th></th>\n",
       "      <th>Model</th>\n",
       "      <th>Train score</th>\n",
       "      <th>Test score</th>\n",
       "    </tr>\n",
       "  </thead>\n",
       "  <tbody>\n",
       "    <tr>\n",
       "      <th>0</th>\n",
       "      <td>LogisticRegression()</td>\n",
       "      <td>0.999818</td>\n",
       "      <td>0.999757</td>\n",
       "    </tr>\n",
       "    <tr>\n",
       "      <th>1</th>\n",
       "      <td>SGDClassifier()</td>\n",
       "      <td>0.999818</td>\n",
       "      <td>0.999757</td>\n",
       "    </tr>\n",
       "    <tr>\n",
       "      <th>2</th>\n",
       "      <td>LinearSVC()</td>\n",
       "      <td>0.999818</td>\n",
       "      <td>0.999757</td>\n",
       "    </tr>\n",
       "    <tr>\n",
       "      <th>3</th>\n",
       "      <td>DecisionTreeClassifier()</td>\n",
       "      <td>1.000000</td>\n",
       "      <td>0.999555</td>\n",
       "    </tr>\n",
       "    <tr>\n",
       "      <th>4</th>\n",
       "      <td>KNeighborsClassifier()</td>\n",
       "      <td>0.999818</td>\n",
       "      <td>0.999757</td>\n",
       "    </tr>\n",
       "  </tbody>\n",
       "</table>\n",
       "</div>"
      ],
      "text/plain": [
       "                      Model  Train score  Test score\n",
       "0      LogisticRegression()     0.999818    0.999757\n",
       "1           SGDClassifier()     0.999818    0.999757\n",
       "2               LinearSVC()     0.999818    0.999757\n",
       "3  DecisionTreeClassifier()     1.000000    0.999555\n",
       "4    KNeighborsClassifier()     0.999818    0.999757"
      ]
     },
     "execution_count": 18,
     "metadata": {},
     "output_type": "execute_result"
    }
   ],
   "source": [
    "scores = []\n",
    "for clf in clfs:\n",
    "    print(f'Model {clf}')\n",
    "    start = time.time()\n",
    "    train_score, test_score = train_split(clf, X, y, 0.2, 42, scaler=False)\n",
    "    end = time.time()\n",
    "    print(f\"Times model {clf} needed is {end-start} \\n\\n\")\n",
    "    scores.append({\n",
    "        'Model':clf,\n",
    "        'Train score': train_score,\n",
    "        'Test score': test_score\n",
    "    })\n",
    "    \n",
    "    results = pd.DataFrame(scores)\n",
    "    \n",
    "results.head()\n",
    "        "
   ]
  },
  {
   "cell_type": "markdown",
   "metadata": {},
   "source": [
    "#### b. using Kfold"
   ]
  },
  {
   "cell_type": "code",
   "execution_count": 20,
   "metadata": {},
   "outputs": [
    {
     "name": "stdout",
     "output_type": "stream",
     "text": [
      "Model LogisticRegression()\n",
      "No Scaling !!!\n"
     ]
    },
    {
     "name": "stderr",
     "output_type": "stream",
     "text": [
      "C:\\Users\\acer\\Anaconda3\\envs\\python\\lib\\site-packages\\sklearn\\model_selection\\_split.py:297: FutureWarning: Setting a random_state has no effect since shuffle is False. This will raise an error in 0.24. You should leave random_state to its default (None), or set shuffle=True.\n",
      "  FutureWarning\n"
     ]
    },
    {
     "name": "stdout",
     "output_type": "stream",
     "text": [
      "Accuracy : 86.391% (8.991%)\n",
      "Times model LogisticRegression() needed is 9.349822998046875\n",
      "\n",
      "Model SGDClassifier()\n",
      "No Scaling !!!\n",
      "Accuracy : 70.491% (15.050%)\n",
      "Times model SGDClassifier() needed is 5.404037714004517\n",
      "\n",
      "Model LinearSVC()\n",
      "No Scaling !!!\n",
      "Accuracy : 74.252% (10.822%)\n",
      "Times model LinearSVC() needed is 118.99676728248596\n",
      "\n",
      "Model DecisionTreeClassifier()\n",
      "No Scaling !!!\n",
      "Accuracy : 50.614% (1.251%)\n",
      "Times model DecisionTreeClassifier() needed is 32.72141408920288\n",
      "\n",
      "Model KNeighborsClassifier()\n",
      "No Scaling !!!\n",
      "Accuracy : 49.952% (0.027%)\n",
      "Times model KNeighborsClassifier() needed is 107.80290126800537\n",
      "\n"
     ]
    },
    {
     "data": {
      "text/html": [
       "<div>\n",
       "<style scoped>\n",
       "    .dataframe tbody tr th:only-of-type {\n",
       "        vertical-align: middle;\n",
       "    }\n",
       "\n",
       "    .dataframe tbody tr th {\n",
       "        vertical-align: top;\n",
       "    }\n",
       "\n",
       "    .dataframe thead th {\n",
       "        text-align: right;\n",
       "    }\n",
       "</style>\n",
       "<table border=\"1\" class=\"dataframe\">\n",
       "  <thead>\n",
       "    <tr style=\"text-align: right;\">\n",
       "      <th></th>\n",
       "      <th>Model</th>\n",
       "      <th>Mean score</th>\n",
       "      <th>STD score</th>\n",
       "    </tr>\n",
       "  </thead>\n",
       "  <tbody>\n",
       "    <tr>\n",
       "      <th>0</th>\n",
       "      <td>LogisticRegression()</td>\n",
       "      <td>0.863908</td>\n",
       "      <td>0.089909</td>\n",
       "    </tr>\n",
       "    <tr>\n",
       "      <th>1</th>\n",
       "      <td>SGDClassifier()</td>\n",
       "      <td>0.704907</td>\n",
       "      <td>0.150496</td>\n",
       "    </tr>\n",
       "    <tr>\n",
       "      <th>2</th>\n",
       "      <td>LinearSVC()</td>\n",
       "      <td>0.742520</td>\n",
       "      <td>0.108216</td>\n",
       "    </tr>\n",
       "    <tr>\n",
       "      <th>3</th>\n",
       "      <td>DecisionTreeClassifier()</td>\n",
       "      <td>0.506137</td>\n",
       "      <td>0.012506</td>\n",
       "    </tr>\n",
       "    <tr>\n",
       "      <th>4</th>\n",
       "      <td>KNeighborsClassifier()</td>\n",
       "      <td>0.499520</td>\n",
       "      <td>0.000274</td>\n",
       "    </tr>\n",
       "  </tbody>\n",
       "</table>\n",
       "</div>"
      ],
      "text/plain": [
       "                      Model  Mean score  STD score\n",
       "0      LogisticRegression()    0.863908   0.089909\n",
       "1           SGDClassifier()    0.704907   0.150496\n",
       "2               LinearSVC()    0.742520   0.108216\n",
       "3  DecisionTreeClassifier()    0.506137   0.012506\n",
       "4    KNeighborsClassifier()    0.499520   0.000274"
      ]
     },
     "execution_count": 20,
     "metadata": {},
     "output_type": "execute_result"
    }
   ],
   "source": [
    "scores = []\n",
    "for clf in clfs:\n",
    "    print(f'Model {clf}')\n",
    "    start = time.time()\n",
    "    mean, std = model_cross_valid(clf, X, y, 5, 42, imbalanced=False)\n",
    "    end = time.time()\n",
    "    print(f\"Times model {clf} needed is {end-start}\\n\")\n",
    "    scores.append({\n",
    "        'Model':clf,\n",
    "        'Mean score': mean,\n",
    "        'STD score': std\n",
    "    })\n",
    "    \n",
    "    results = pd.DataFrame(scores)\n",
    "    \n",
    "results.head()"
   ]
  },
  {
   "cell_type": "markdown",
   "metadata": {},
   "source": [
    " Pada percobaan ini model terbaik adalah LogisticRegression"
   ]
  },
  {
   "cell_type": "markdown",
   "metadata": {},
   "source": [
    "#### c. Using Shuffle Split"
   ]
  },
  {
   "cell_type": "code",
   "execution_count": 21,
   "metadata": {},
   "outputs": [
    {
     "name": "stdout",
     "output_type": "stream",
     "text": [
      "Model LogisticRegression()\n",
      "No Scaling !!!\n"
     ]
    },
    {
     "name": "stderr",
     "output_type": "stream",
     "text": [
      "C:\\Users\\acer\\Anaconda3\\envs\\python\\lib\\site-packages\\sklearn\\model_selection\\_split.py:297: FutureWarning: Setting a random_state has no effect since shuffle is False. This will raise an error in 0.24. You should leave random_state to its default (None), or set shuffle=True.\n",
      "  FutureWarning\n"
     ]
    },
    {
     "name": "stdout",
     "output_type": "stream",
     "text": [
      "Accuracy : 84.927% (9.985%)\n",
      "Times model LogisticRegression() needed is 8.025954723358154\n",
      "\n",
      "Model SGDClassifier()\n",
      "No Scaling !!!\n"
     ]
    },
    {
     "name": "stderr",
     "output_type": "stream",
     "text": [
      "C:\\Users\\acer\\Anaconda3\\envs\\python\\lib\\site-packages\\sklearn\\model_selection\\_split.py:297: FutureWarning: Setting a random_state has no effect since shuffle is False. This will raise an error in 0.24. You should leave random_state to its default (None), or set shuffle=True.\n",
      "  FutureWarning\n"
     ]
    },
    {
     "name": "stdout",
     "output_type": "stream",
     "text": [
      "Accuracy : 63.783% (8.474%)\n",
      "Times model SGDClassifier() needed is 3.6881887912750244\n",
      "\n",
      "Model LinearSVC()\n",
      "No Scaling !!!\n"
     ]
    },
    {
     "name": "stderr",
     "output_type": "stream",
     "text": [
      "C:\\Users\\acer\\Anaconda3\\envs\\python\\lib\\site-packages\\sklearn\\model_selection\\_split.py:297: FutureWarning: Setting a random_state has no effect since shuffle is False. This will raise an error in 0.24. You should leave random_state to its default (None), or set shuffle=True.\n",
      "  FutureWarning\n"
     ]
    },
    {
     "name": "stdout",
     "output_type": "stream",
     "text": [
      "Accuracy : 74.532% (4.214%)\n",
      "Times model LinearSVC() needed is 124.38880658149719\n",
      "\n",
      "Model DecisionTreeClassifier()\n",
      "No Scaling !!!\n"
     ]
    },
    {
     "name": "stderr",
     "output_type": "stream",
     "text": [
      "C:\\Users\\acer\\Anaconda3\\envs\\python\\lib\\site-packages\\sklearn\\model_selection\\_split.py:297: FutureWarning: Setting a random_state has no effect since shuffle is False. This will raise an error in 0.24. You should leave random_state to its default (None), or set shuffle=True.\n",
      "  FutureWarning\n"
     ]
    },
    {
     "name": "stdout",
     "output_type": "stream",
     "text": [
      "Accuracy : 50.985% (2.002%)\n",
      "Times model DecisionTreeClassifier() needed is 33.29438138008118\n",
      "\n",
      "Model KNeighborsClassifier()\n",
      "No Scaling !!!\n"
     ]
    },
    {
     "name": "stderr",
     "output_type": "stream",
     "text": [
      "C:\\Users\\acer\\Anaconda3\\envs\\python\\lib\\site-packages\\sklearn\\model_selection\\_split.py:297: FutureWarning: Setting a random_state has no effect since shuffle is False. This will raise an error in 0.24. You should leave random_state to its default (None), or set shuffle=True.\n",
      "  FutureWarning\n"
     ]
    },
    {
     "name": "stdout",
     "output_type": "stream",
     "text": [
      "Accuracy : 52.164% (2.700%)\n",
      "Times model KNeighborsClassifier() needed is 108.07609844207764\n",
      "\n"
     ]
    },
    {
     "data": {
      "text/html": [
       "<div>\n",
       "<style scoped>\n",
       "    .dataframe tbody tr th:only-of-type {\n",
       "        vertical-align: middle;\n",
       "    }\n",
       "\n",
       "    .dataframe tbody tr th {\n",
       "        vertical-align: top;\n",
       "    }\n",
       "\n",
       "    .dataframe thead th {\n",
       "        text-align: right;\n",
       "    }\n",
       "</style>\n",
       "<table border=\"1\" class=\"dataframe\">\n",
       "  <thead>\n",
       "    <tr style=\"text-align: right;\">\n",
       "      <th></th>\n",
       "      <th>Model</th>\n",
       "      <th>Mean score</th>\n",
       "      <th>STD score</th>\n",
       "    </tr>\n",
       "  </thead>\n",
       "  <tbody>\n",
       "    <tr>\n",
       "      <th>0</th>\n",
       "      <td>LogisticRegression()</td>\n",
       "      <td>0.849273</td>\n",
       "      <td>0.099854</td>\n",
       "    </tr>\n",
       "    <tr>\n",
       "      <th>1</th>\n",
       "      <td>SGDClassifier()</td>\n",
       "      <td>0.637832</td>\n",
       "      <td>0.084736</td>\n",
       "    </tr>\n",
       "    <tr>\n",
       "      <th>2</th>\n",
       "      <td>LinearSVC()</td>\n",
       "      <td>0.745320</td>\n",
       "      <td>0.042139</td>\n",
       "    </tr>\n",
       "    <tr>\n",
       "      <th>3</th>\n",
       "      <td>DecisionTreeClassifier()</td>\n",
       "      <td>0.509850</td>\n",
       "      <td>0.020019</td>\n",
       "    </tr>\n",
       "    <tr>\n",
       "      <th>4</th>\n",
       "      <td>KNeighborsClassifier()</td>\n",
       "      <td>0.521643</td>\n",
       "      <td>0.026996</td>\n",
       "    </tr>\n",
       "  </tbody>\n",
       "</table>\n",
       "</div>"
      ],
      "text/plain": [
       "                      Model  Mean score  STD score\n",
       "0      LogisticRegression()    0.849273   0.099854\n",
       "1           SGDClassifier()    0.637832   0.084736\n",
       "2               LinearSVC()    0.745320   0.042139\n",
       "3  DecisionTreeClassifier()    0.509850   0.020019\n",
       "4    KNeighborsClassifier()    0.521643   0.026996"
      ]
     },
     "execution_count": 21,
     "metadata": {},
     "output_type": "execute_result"
    }
   ],
   "source": [
    "scores = []\n",
    "for clf in clfs:\n",
    "    print(f'Model {clf}')\n",
    "    start = time.time()\n",
    "    mean, std = model_cross_valid(clf, X, y, 5, 42, imbalanced=True)\n",
    "    end = time.time()\n",
    "    print(f\"Times model {clf} needed is {end-start}\\n\")\n",
    "    scores.append({\n",
    "        'Model':clf,\n",
    "        'Mean score': mean,\n",
    "        'STD score': std\n",
    "    })\n",
    "    \n",
    "    results = pd.DataFrame(scores)\n",
    "    \n",
    "results.head()"
   ]
  },
  {
   "cell_type": "markdown",
   "metadata": {},
   "source": [
    "Pada percobaan ini model terbaik adalah Logistic Regression"
   ]
  },
  {
   "cell_type": "markdown",
   "metadata": {},
   "source": [
    "### 2. With Feature Selection"
   ]
  },
  {
   "cell_type": "code",
   "execution_count": 22,
   "metadata": {},
   "outputs": [],
   "source": [
    "X = df_imbalanced_data.drop(['Time','Class'], axis=1)\n",
    "y = df_imbalanced_data['Class'].values"
   ]
  },
  {
   "cell_type": "code",
   "execution_count": 23,
   "metadata": {},
   "outputs": [
    {
     "name": "stdout",
     "output_type": "stream",
     "text": [
      "Features Selected V4 : 67.35749271958204\n",
      "Features Selected V7 : 11.260191155967684\n",
      "Features Selected V8 : 10.642756494109054\n",
      "Features Selected V14 : 54.409978533577515\n",
      "Features Selected V17 : 60.21443677312165\n",
      "Features Selected V18 : 14.256115944854859\n",
      "Features Selected V19 : 9.86536554621786\n",
      "Features Selected Amount : 10.174908222893272\n"
     ]
    },
    {
     "data": {
      "image/png": "[encoded data removed]",
      "text/plain": [
       "<Figure size 432x288 with 1 Axes>"
      ]
     },
     "metadata": {
      "needs_background": "light"
     },
     "output_type": "display_data"
    }
   ],
   "source": [
    "## Finding features\n",
    "features_selected = feature_selection(X, y, f_classif)"
   ]
  },
  {
   "cell_type": "code",
   "execution_count": 24,
   "metadata": {},
   "outputs": [],
   "source": [
    "## modified attribute after get features selected\n",
    "\n",
    "X = df_imbalanced_data[features_selected]\n",
    "y = df_imbalanced_data['Class'].values"
   ]
  },
  {
   "cell_type": "code",
   "execution_count": 25,
   "metadata": {},
   "outputs": [
    {
     "data": {
      "text/html": [
       "<div>\n",
       "<style scoped>\n",
       "    .dataframe tbody tr th:only-of-type {\n",
       "        vertical-align: middle;\n",
       "    }\n",
       "\n",
       "    .dataframe tbody tr th {\n",
       "        vertical-align: top;\n",
       "    }\n",
       "\n",
       "    .dataframe thead th {\n",
       "        text-align: right;\n",
       "    }\n",
       "</style>\n",
       "<table border=\"1\" class=\"dataframe\">\n",
       "  <thead>\n",
       "    <tr style=\"text-align: right;\">\n",
       "      <th></th>\n",
       "      <th>V4</th>\n",
       "      <th>V7</th>\n",
       "      <th>V8</th>\n",
       "      <th>V14</th>\n",
       "      <th>V17</th>\n",
       "      <th>V18</th>\n",
       "      <th>V19</th>\n",
       "      <th>Amount</th>\n",
       "    </tr>\n",
       "  </thead>\n",
       "  <tbody>\n",
       "    <tr>\n",
       "      <th>0</th>\n",
       "      <td>1.378155</td>\n",
       "      <td>0.239599</td>\n",
       "      <td>0.098698</td>\n",
       "      <td>-0.311169</td>\n",
       "      <td>0.207971</td>\n",
       "      <td>0.025791</td>\n",
       "      <td>0.403993</td>\n",
       "      <td>149.62</td>\n",
       "    </tr>\n",
       "    <tr>\n",
       "      <th>1</th>\n",
       "      <td>0.448154</td>\n",
       "      <td>-0.078803</td>\n",
       "      <td>0.085102</td>\n",
       "      <td>-0.143772</td>\n",
       "      <td>-0.114805</td>\n",
       "      <td>-0.183361</td>\n",
       "      <td>-0.145783</td>\n",
       "      <td>2.69</td>\n",
       "    </tr>\n",
       "    <tr>\n",
       "      <th>3</th>\n",
       "      <td>-0.863291</td>\n",
       "      <td>0.237609</td>\n",
       "      <td>0.377436</td>\n",
       "      <td>-0.287924</td>\n",
       "      <td>-0.684093</td>\n",
       "      <td>1.965775</td>\n",
       "      <td>-1.232622</td>\n",
       "      <td>123.50</td>\n",
       "    </tr>\n",
       "    <tr>\n",
       "      <th>4</th>\n",
       "      <td>0.403034</td>\n",
       "      <td>0.592941</td>\n",
       "      <td>-0.270533</td>\n",
       "      <td>-1.119670</td>\n",
       "      <td>-0.237033</td>\n",
       "      <td>-0.038195</td>\n",
       "      <td>0.803487</td>\n",
       "      <td>69.99</td>\n",
       "    </tr>\n",
       "    <tr>\n",
       "      <th>5</th>\n",
       "      <td>-0.168252</td>\n",
       "      <td>0.476201</td>\n",
       "      <td>0.260314</td>\n",
       "      <td>-0.137134</td>\n",
       "      <td>-0.058133</td>\n",
       "      <td>0.068653</td>\n",
       "      <td>-0.033194</td>\n",
       "      <td>3.67</td>\n",
       "    </tr>\n",
       "    <tr>\n",
       "      <th>...</th>\n",
       "      <td>...</td>\n",
       "      <td>...</td>\n",
       "      <td>...</td>\n",
       "      <td>...</td>\n",
       "      <td>...</td>\n",
       "      <td>...</td>\n",
       "      <td>...</td>\n",
       "      <td>...</td>\n",
       "    </tr>\n",
       "    <tr>\n",
       "      <th>284800</th>\n",
       "      <td>0.234580</td>\n",
       "      <td>0.017050</td>\n",
       "      <td>-0.118228</td>\n",
       "      <td>0.626211</td>\n",
       "      <td>-0.605252</td>\n",
       "      <td>-0.163049</td>\n",
       "      <td>0.561695</td>\n",
       "      <td>2.68</td>\n",
       "    </tr>\n",
       "    <tr>\n",
       "      <th>284801</th>\n",
       "      <td>-0.745097</td>\n",
       "      <td>0.812722</td>\n",
       "      <td>0.115093</td>\n",
       "      <td>-0.731707</td>\n",
       "      <td>0.070441</td>\n",
       "      <td>0.373110</td>\n",
       "      <td>0.128904</td>\n",
       "      <td>2.69</td>\n",
       "    </tr>\n",
       "    <tr>\n",
       "      <th>284803</th>\n",
       "      <td>-0.738589</td>\n",
       "      <td>0.024330</td>\n",
       "      <td>0.294869</td>\n",
       "      <td>-0.675143</td>\n",
       "      <td>-0.025693</td>\n",
       "      <td>-1.221179</td>\n",
       "      <td>-1.545556</td>\n",
       "      <td>24.79</td>\n",
       "    </tr>\n",
       "    <tr>\n",
       "      <th>284804</th>\n",
       "      <td>-0.557828</td>\n",
       "      <td>-0.296827</td>\n",
       "      <td>0.708417</td>\n",
       "      <td>-0.510602</td>\n",
       "      <td>0.313502</td>\n",
       "      <td>0.395652</td>\n",
       "      <td>-0.577252</td>\n",
       "      <td>67.88</td>\n",
       "    </tr>\n",
       "    <tr>\n",
       "      <th>284806</th>\n",
       "      <td>-0.506271</td>\n",
       "      <td>1.577006</td>\n",
       "      <td>-0.414650</td>\n",
       "      <td>-0.084316</td>\n",
       "      <td>-0.660377</td>\n",
       "      <td>0.167430</td>\n",
       "      <td>-0.256117</td>\n",
       "      <td>217.00</td>\n",
       "    </tr>\n",
       "  </tbody>\n",
       "</table>\n",
       "<p>246991 rows × 8 columns</p>\n",
       "</div>"
      ],
      "text/plain": [
       "              V4        V7        V8       V14       V17       V18       V19  \\\n",
       "0       1.378155  0.239599  0.098698 -0.311169  0.207971  0.025791  0.403993   \n",
       "1       0.448154 -0.078803  0.085102 -0.143772 -0.114805 -0.183361 -0.145783   \n",
       "3      -0.863291  0.237609  0.377436 -0.287924 -0.684093  1.965775 -1.232622   \n",
       "4       0.403034  0.592941 -0.270533 -1.119670 -0.237033 -0.038195  0.803487   \n",
       "5      -0.168252  0.476201  0.260314 -0.137134 -0.058133  0.068653 -0.033194   \n",
       "...          ...       ...       ...       ...       ...       ...       ...   \n",
       "284800  0.234580  0.017050 -0.118228  0.626211 -0.605252 -0.163049  0.561695   \n",
       "284801 -0.745097  0.812722  0.115093 -0.731707  0.070441  0.373110  0.128904   \n",
       "284803 -0.738589  0.024330  0.294869 -0.675143 -0.025693 -1.221179 -1.545556   \n",
       "284804 -0.557828 -0.296827  0.708417 -0.510602  0.313502  0.395652 -0.577252   \n",
       "284806 -0.506271  1.577006 -0.414650 -0.084316 -0.660377  0.167430 -0.256117   \n",
       "\n",
       "        Amount  \n",
       "0       149.62  \n",
       "1         2.69  \n",
       "3       123.50  \n",
       "4        69.99  \n",
       "5         3.67  \n",
       "...        ...  \n",
       "284800    2.68  \n",
       "284801    2.69  \n",
       "284803   24.79  \n",
       "284804   67.88  \n",
       "284806  217.00  \n",
       "\n",
       "[246991 rows x 8 columns]"
      ]
     },
     "execution_count": 25,
     "metadata": {},
     "output_type": "execute_result"
    }
   ],
   "source": [
    "X"
   ]
  },
  {
   "cell_type": "markdown",
   "metadata": {},
   "source": [
    "#### a. using func train_split"
   ]
  },
  {
   "cell_type": "code",
   "execution_count": 26,
   "metadata": {},
   "outputs": [
    {
     "name": "stdout",
     "output_type": "stream",
     "text": [
      "Model LogisticRegression()\n",
      "No Scaling !!!\n",
      "Accuracy train: 99.982%\tAccuracy test: 99.976%\n",
      "Times model LogisticRegression() needed is 4.217872858047485 \n",
      "\n",
      "\n",
      "Model SGDClassifier()\n",
      "No Scaling !!!\n",
      "Accuracy train: 99.982%\tAccuracy test: 99.976%\n",
      "Times model SGDClassifier() needed is 1.1740832328796387 \n",
      "\n",
      "\n",
      "Model LinearSVC()\n",
      "No Scaling !!!\n"
     ]
    },
    {
     "name": "stderr",
     "output_type": "stream",
     "text": [
      "C:\\Users\\acer\\Anaconda3\\envs\\python\\lib\\site-packages\\sklearn\\svm\\_base.py:977: ConvergenceWarning: Liblinear failed to converge, increase the number of iterations.\n",
      "  \"the number of iterations.\", ConvergenceWarning)\n"
     ]
    },
    {
     "name": "stdout",
     "output_type": "stream",
     "text": [
      "Accuracy train: 99.982%\tAccuracy test: 99.976%\n",
      "Times model LinearSVC() needed is 44.95137357711792 \n",
      "\n",
      "\n",
      "Model DecisionTreeClassifier()\n",
      "No Scaling !!!\n",
      "Accuracy train: 100.000%\tAccuracy test: 99.957%\n",
      "Times model DecisionTreeClassifier() needed is 4.9400365352630615 \n",
      "\n",
      "\n",
      "Model KNeighborsClassifier()\n",
      "No Scaling !!!\n",
      "Accuracy train: 99.983%\tAccuracy test: 99.976%\n",
      "Times model KNeighborsClassifier() needed is 50.16643953323364 \n",
      "\n",
      "\n"
     ]
    },
    {
     "data": {
      "text/html": [
       "<div>\n",
       "<style scoped>\n",
       "    .dataframe tbody tr th:only-of-type {\n",
       "        vertical-align: middle;\n",
       "    }\n",
       "\n",
       "    .dataframe tbody tr th {\n",
       "        vertical-align: top;\n",
       "    }\n",
       "\n",
       "    .dataframe thead th {\n",
       "        text-align: right;\n",
       "    }\n",
       "</style>\n",
       "<table border=\"1\" class=\"dataframe\">\n",
       "  <thead>\n",
       "    <tr style=\"text-align: right;\">\n",
       "      <th></th>\n",
       "      <th>Model</th>\n",
       "      <th>Train score</th>\n",
       "      <th>Test score</th>\n",
       "    </tr>\n",
       "  </thead>\n",
       "  <tbody>\n",
       "    <tr>\n",
       "      <th>0</th>\n",
       "      <td>LogisticRegression()</td>\n",
       "      <td>0.999818</td>\n",
       "      <td>0.999757</td>\n",
       "    </tr>\n",
       "    <tr>\n",
       "      <th>1</th>\n",
       "      <td>SGDClassifier()</td>\n",
       "      <td>0.999818</td>\n",
       "      <td>0.999757</td>\n",
       "    </tr>\n",
       "    <tr>\n",
       "      <th>2</th>\n",
       "      <td>LinearSVC()</td>\n",
       "      <td>0.999818</td>\n",
       "      <td>0.999757</td>\n",
       "    </tr>\n",
       "    <tr>\n",
       "      <th>3</th>\n",
       "      <td>DecisionTreeClassifier()</td>\n",
       "      <td>1.000000</td>\n",
       "      <td>0.999575</td>\n",
       "    </tr>\n",
       "    <tr>\n",
       "      <th>4</th>\n",
       "      <td>KNeighborsClassifier()</td>\n",
       "      <td>0.999828</td>\n",
       "      <td>0.999757</td>\n",
       "    </tr>\n",
       "  </tbody>\n",
       "</table>\n",
       "</div>"
      ],
      "text/plain": [
       "                      Model  Train score  Test score\n",
       "0      LogisticRegression()     0.999818    0.999757\n",
       "1           SGDClassifier()     0.999818    0.999757\n",
       "2               LinearSVC()     0.999818    0.999757\n",
       "3  DecisionTreeClassifier()     1.000000    0.999575\n",
       "4    KNeighborsClassifier()     0.999828    0.999757"
      ]
     },
     "execution_count": 26,
     "metadata": {},
     "output_type": "execute_result"
    }
   ],
   "source": [
    "scores = []\n",
    "for clf in clfs:\n",
    "    print(f'Model {clf}')\n",
    "    start = time.time()\n",
    "    train_score, test_score = train_split(clf, X, y, 0.2, 42, scaler=False)\n",
    "    end = time.time()\n",
    "    print(f\"Times model {clf} needed is {end-start} \\n\\n\")\n",
    "    scores.append({\n",
    "        'Model':clf,\n",
    "        'Train score': train_score,\n",
    "        'Test score': test_score\n",
    "    })\n",
    "    \n",
    "    results = pd.DataFrame(scores)\n",
    "    \n",
    "results.head()"
   ]
  },
  {
   "cell_type": "markdown",
   "metadata": {},
   "source": [
    "#### b. using Kfold"
   ]
  },
  {
   "cell_type": "code",
   "execution_count": 27,
   "metadata": {},
   "outputs": [
    {
     "name": "stdout",
     "output_type": "stream",
     "text": [
      "Model LogisticRegression()\n",
      "No Scaling !!!\n"
     ]
    },
    {
     "name": "stderr",
     "output_type": "stream",
     "text": [
      "C:\\Users\\acer\\Anaconda3\\envs\\python\\lib\\site-packages\\sklearn\\model_selection\\_split.py:297: FutureWarning: Setting a random_state has no effect since shuffle is False. This will raise an error in 0.24. You should leave random_state to its default (None), or set shuffle=True.\n",
      "  FutureWarning\n"
     ]
    },
    {
     "name": "stdout",
     "output_type": "stream",
     "text": [
      "Accuracy : 88.843% (4.335%)\n",
      "Times model LogisticRegression() needed is 6.245632886886597\n",
      "\n",
      "Model SGDClassifier()\n",
      "No Scaling !!!\n",
      "Accuracy : 61.881% (11.915%)\n",
      "Times model SGDClassifier() needed is 3.565716028213501\n",
      "\n",
      "Model LinearSVC()\n",
      "No Scaling !!!\n",
      "Accuracy : 75.462% (4.399%)\n",
      "Times model LinearSVC() needed is 72.74633932113647\n",
      "\n",
      "Model DecisionTreeClassifier()\n",
      "No Scaling !!!\n",
      "Accuracy : 49.988% (0.007%)\n",
      "Times model DecisionTreeClassifier() needed is 6.6316070556640625\n",
      "\n",
      "Model KNeighborsClassifier()\n",
      "No Scaling !!!\n",
      "Accuracy : 50.585% (1.258%)\n",
      "Times model KNeighborsClassifier() needed is 14.521904468536377\n",
      "\n"
     ]
    },
    {
     "data": {
      "text/html": [
       "<div>\n",
       "<style scoped>\n",
       "    .dataframe tbody tr th:only-of-type {\n",
       "        vertical-align: middle;\n",
       "    }\n",
       "\n",
       "    .dataframe tbody tr th {\n",
       "        vertical-align: top;\n",
       "    }\n",
       "\n",
       "    .dataframe thead th {\n",
       "        text-align: right;\n",
       "    }\n",
       "</style>\n",
       "<table border=\"1\" class=\"dataframe\">\n",
       "  <thead>\n",
       "    <tr style=\"text-align: right;\">\n",
       "      <th></th>\n",
       "      <th>Model</th>\n",
       "      <th>Mean score</th>\n",
       "      <th>STD score</th>\n",
       "    </tr>\n",
       "  </thead>\n",
       "  <tbody>\n",
       "    <tr>\n",
       "      <th>0</th>\n",
       "      <td>LogisticRegression()</td>\n",
       "      <td>0.888427</td>\n",
       "      <td>0.043352</td>\n",
       "    </tr>\n",
       "    <tr>\n",
       "      <th>1</th>\n",
       "      <td>SGDClassifier()</td>\n",
       "      <td>0.618807</td>\n",
       "      <td>0.119150</td>\n",
       "    </tr>\n",
       "    <tr>\n",
       "      <th>2</th>\n",
       "      <td>LinearSVC()</td>\n",
       "      <td>0.754615</td>\n",
       "      <td>0.043985</td>\n",
       "    </tr>\n",
       "    <tr>\n",
       "      <th>3</th>\n",
       "      <td>DecisionTreeClassifier()</td>\n",
       "      <td>0.499881</td>\n",
       "      <td>0.000070</td>\n",
       "    </tr>\n",
       "    <tr>\n",
       "      <th>4</th>\n",
       "      <td>KNeighborsClassifier()</td>\n",
       "      <td>0.505853</td>\n",
       "      <td>0.012577</td>\n",
       "    </tr>\n",
       "  </tbody>\n",
       "</table>\n",
       "</div>"
      ],
      "text/plain": [
       "                      Model  Mean score  STD score\n",
       "0      LogisticRegression()    0.888427   0.043352\n",
       "1           SGDClassifier()    0.618807   0.119150\n",
       "2               LinearSVC()    0.754615   0.043985\n",
       "3  DecisionTreeClassifier()    0.499881   0.000070\n",
       "4    KNeighborsClassifier()    0.505853   0.012577"
      ]
     },
     "execution_count": 27,
     "metadata": {},
     "output_type": "execute_result"
    }
   ],
   "source": [
    "scores = []\n",
    "for clf in clfs:\n",
    "    print(f'Model {clf}')\n",
    "    start = time.time()\n",
    "    mean, std = model_cross_valid(clf, X, y, 5, 42, imbalanced=False)\n",
    "    end = time.time()\n",
    "    print(f\"Times model {clf} needed is {end-start}\\n\")\n",
    "    scores.append({\n",
    "        'Model':clf,\n",
    "        'Mean score': mean,\n",
    "        'STD score': std\n",
    "    })\n",
    "    \n",
    "    results = pd.DataFrame(scores)\n",
    "    \n",
    "results.head()"
   ]
  },
  {
   "cell_type": "markdown",
   "metadata": {},
   "source": [
    "#### c. Using Shuffle Split"
   ]
  },
  {
   "cell_type": "code",
   "execution_count": 28,
   "metadata": {},
   "outputs": [
    {
     "name": "stdout",
     "output_type": "stream",
     "text": [
      "Model LogisticRegression()\n",
      "No Scaling !!!\n"
     ]
    },
    {
     "name": "stderr",
     "output_type": "stream",
     "text": [
      "C:\\Users\\acer\\Anaconda3\\envs\\python\\lib\\site-packages\\sklearn\\model_selection\\_split.py:297: FutureWarning: Setting a random_state has no effect since shuffle is False. This will raise an error in 0.24. You should leave random_state to its default (None), or set shuffle=True.\n",
      "  FutureWarning\n"
     ]
    },
    {
     "name": "stdout",
     "output_type": "stream",
     "text": [
      "Accuracy : 87.826% (4.560%)\n",
      "Times model LogisticRegression() needed is 5.589820623397827\n",
      "\n",
      "Model SGDClassifier()\n",
      "No Scaling !!!\n"
     ]
    },
    {
     "name": "stderr",
     "output_type": "stream",
     "text": [
      "C:\\Users\\acer\\Anaconda3\\envs\\python\\lib\\site-packages\\sklearn\\model_selection\\_split.py:297: FutureWarning: Setting a random_state has no effect since shuffle is False. This will raise an error in 0.24. You should leave random_state to its default (None), or set shuffle=True.\n",
      "  FutureWarning\n"
     ]
    },
    {
     "name": "stdout",
     "output_type": "stream",
     "text": [
      "Accuracy : 66.136% (11.861%)\n",
      "Times model SGDClassifier() needed is 2.7144436836242676\n",
      "\n",
      "Model LinearSVC()\n",
      "No Scaling !!!\n"
     ]
    },
    {
     "name": "stderr",
     "output_type": "stream",
     "text": [
      "C:\\Users\\acer\\Anaconda3\\envs\\python\\lib\\site-packages\\sklearn\\model_selection\\_split.py:297: FutureWarning: Setting a random_state has no effect since shuffle is False. This will raise an error in 0.24. You should leave random_state to its default (None), or set shuffle=True.\n",
      "  FutureWarning\n"
     ]
    },
    {
     "name": "stdout",
     "output_type": "stream",
     "text": [
      "Accuracy : 73.311% (11.982%)\n",
      "Times model LinearSVC() needed is 72.14659571647644\n",
      "\n",
      "Model DecisionTreeClassifier()\n",
      "No Scaling !!!\n"
     ]
    },
    {
     "name": "stderr",
     "output_type": "stream",
     "text": [
      "C:\\Users\\acer\\Anaconda3\\envs\\python\\lib\\site-packages\\sklearn\\model_selection\\_split.py:297: FutureWarning: Setting a random_state has no effect since shuffle is False. This will raise an error in 0.24. You should leave random_state to its default (None), or set shuffle=True.\n",
      "  FutureWarning\n"
     ]
    },
    {
     "name": "stdout",
     "output_type": "stream",
     "text": [
      "Accuracy : 49.982% (0.013%)\n",
      "Times model DecisionTreeClassifier() needed is 7.1936986446380615\n",
      "\n",
      "Model KNeighborsClassifier()\n",
      "No Scaling !!!\n"
     ]
    },
    {
     "name": "stderr",
     "output_type": "stream",
     "text": [
      "C:\\Users\\acer\\Anaconda3\\envs\\python\\lib\\site-packages\\sklearn\\model_selection\\_split.py:297: FutureWarning: Setting a random_state has no effect since shuffle is False. This will raise an error in 0.24. You should leave random_state to its default (None), or set shuffle=True.\n",
      "  FutureWarning\n"
     ]
    },
    {
     "name": "stdout",
     "output_type": "stream",
     "text": [
      "Accuracy : 53.290% (4.444%)\n",
      "Times model KNeighborsClassifier() needed is 14.38069200515747\n",
      "\n"
     ]
    },
    {
     "data": {
      "text/html": [
       "<div>\n",
       "<style scoped>\n",
       "    .dataframe tbody tr th:only-of-type {\n",
       "        vertical-align: middle;\n",
       "    }\n",
       "\n",
       "    .dataframe tbody tr th {\n",
       "        vertical-align: top;\n",
       "    }\n",
       "\n",
       "    .dataframe thead th {\n",
       "        text-align: right;\n",
       "    }\n",
       "</style>\n",
       "<table border=\"1\" class=\"dataframe\">\n",
       "  <thead>\n",
       "    <tr style=\"text-align: right;\">\n",
       "      <th></th>\n",
       "      <th>Model</th>\n",
       "      <th>Mean score</th>\n",
       "      <th>STD score</th>\n",
       "    </tr>\n",
       "  </thead>\n",
       "  <tbody>\n",
       "    <tr>\n",
       "      <th>0</th>\n",
       "      <td>LogisticRegression()</td>\n",
       "      <td>0.878258</td>\n",
       "      <td>0.045598</td>\n",
       "    </tr>\n",
       "    <tr>\n",
       "      <th>1</th>\n",
       "      <td>SGDClassifier()</td>\n",
       "      <td>0.661364</td>\n",
       "      <td>0.118614</td>\n",
       "    </tr>\n",
       "    <tr>\n",
       "      <th>2</th>\n",
       "      <td>LinearSVC()</td>\n",
       "      <td>0.733114</td>\n",
       "      <td>0.119818</td>\n",
       "    </tr>\n",
       "    <tr>\n",
       "      <th>3</th>\n",
       "      <td>DecisionTreeClassifier()</td>\n",
       "      <td>0.499824</td>\n",
       "      <td>0.000128</td>\n",
       "    </tr>\n",
       "    <tr>\n",
       "      <th>4</th>\n",
       "      <td>KNeighborsClassifier()</td>\n",
       "      <td>0.532903</td>\n",
       "      <td>0.044439</td>\n",
       "    </tr>\n",
       "  </tbody>\n",
       "</table>\n",
       "</div>"
      ],
      "text/plain": [
       "                      Model  Mean score  STD score\n",
       "0      LogisticRegression()    0.878258   0.045598\n",
       "1           SGDClassifier()    0.661364   0.118614\n",
       "2               LinearSVC()    0.733114   0.119818\n",
       "3  DecisionTreeClassifier()    0.499824   0.000128\n",
       "4    KNeighborsClassifier()    0.532903   0.044439"
      ]
     },
     "execution_count": 28,
     "metadata": {},
     "output_type": "execute_result"
    }
   ],
   "source": [
    "scores = []\n",
    "for clf in clfs:\n",
    "    print(f'Model {clf}')\n",
    "    start = time.time()\n",
    "    mean, std = model_cross_valid(clf, X, y, 5, 42, imbalanced=True)\n",
    "    end = time.time()\n",
    "    print(f\"Times model {clf} needed is {end-start}\\n\")\n",
    "    scores.append({\n",
    "        'Model':clf,\n",
    "        'Mean score': mean,\n",
    "        'STD score': std\n",
    "    })\n",
    "    \n",
    "    results = pd.DataFrame(scores)\n",
    "    \n",
    "results.head()"
   ]
  },
  {
   "cell_type": "markdown",
   "metadata": {},
   "source": [
    "## Work Balanced data"
   ]
  },
  {
   "cell_type": "code",
   "execution_count": 29,
   "metadata": {},
   "outputs": [
    {
     "data": {
      "image/png": "[encoded data removed]",
      "text/plain": [
       "<Figure size 432x288 with 1 Axes>"
      ]
     },
     "metadata": {
      "needs_background": "light"
     },
     "output_type": "display_data"
    },
    {
     "name": "stdout",
     "output_type": "stream",
     "text": [
      "1    246943\n",
      "0    246943\n",
      "Name: Class, dtype: int64\n"
     ]
    }
   ],
   "source": [
    "## Balanced data using resample\n",
    "\n",
    "df_temp = df_no_outlier.copy()\n",
    "\n",
    "not_fraud = df_temp[df_temp['Class']==0]\n",
    "fraud = df_temp[df_temp['Class']==1]\n",
    "\n",
    "fraud_resampled = resample(fraud, replace=True, n_samples=len(not_fraud),\n",
    "                          random_state=42)\n",
    "df_balanced_data = pd.concat([not_fraud, fraud_resampled])\n",
    "df_balanced_data = df_balanced_data.sample(frac=1)\n",
    "\n",
    "sns.countplot(df_balanced_data['Class'])\n",
    "plt.show()\n",
    "print(df_balanced_data['Class'].value_counts())"
   ]
  },
  {
   "cell_type": "markdown",
   "metadata": {},
   "source": [
    "### 1. No Feature Selection"
   ]
  },
  {
   "cell_type": "code",
   "execution_count": 31,
   "metadata": {},
   "outputs": [],
   "source": [
    "X = df_balanced_data.drop(['Time','Class'], axis=1)\n",
    "y = df_balanced_data['Class'].values"
   ]
  },
  {
   "cell_type": "markdown",
   "metadata": {},
   "source": [
    "#### a. using func train_split"
   ]
  },
  {
   "cell_type": "code",
   "execution_count": 32,
   "metadata": {},
   "outputs": [
    {
     "name": "stdout",
     "output_type": "stream",
     "text": [
      "Model LogisticRegression()\n",
      "No Scaling !!!\n"
     ]
    },
    {
     "name": "stderr",
     "output_type": "stream",
     "text": [
      "C:\\Users\\acer\\Anaconda3\\envs\\python\\lib\\site-packages\\sklearn\\linear_model\\_logistic.py:764: ConvergenceWarning: lbfgs failed to converge (status=1):\n",
      "STOP: TOTAL NO. of ITERATIONS REACHED LIMIT.\n",
      "\n",
      "Increase the number of iterations (max_iter) or scale the data as shown in:\n",
      "    https://scikit-learn.org/stable/modules/preprocessing.html\n",
      "Please also refer to the documentation for alternative solver options:\n",
      "    https://scikit-learn.org/stable/modules/linear_model.html#logistic-regression\n",
      "  extra_warning_msg=_LOGISTIC_SOLVER_CONVERGENCE_MSG)\n"
     ]
    },
    {
     "name": "stdout",
     "output_type": "stream",
     "text": [
      "Accuracy train: 87.686%\tAccuracy test: 87.680%\n",
      "Times model LogisticRegression() needed is 8.963784456253052 \n",
      "\n",
      "\n",
      "Model SGDClassifier()\n",
      "No Scaling !!!\n",
      "Accuracy train: 86.414%\tAccuracy test: 86.463%\n",
      "Times model SGDClassifier() needed is 48.32070851325989 \n",
      "\n",
      "\n",
      "Model LinearSVC()\n",
      "No Scaling !!!\n"
     ]
    },
    {
     "name": "stderr",
     "output_type": "stream",
     "text": [
      "C:\\Users\\acer\\Anaconda3\\envs\\python\\lib\\site-packages\\sklearn\\svm\\_base.py:977: ConvergenceWarning: Liblinear failed to converge, increase the number of iterations.\n",
      "  \"the number of iterations.\", ConvergenceWarning)\n"
     ]
    },
    {
     "name": "stdout",
     "output_type": "stream",
     "text": [
      "Accuracy train: 73.374%\tAccuracy test: 73.234%\n",
      "Times model LinearSVC() needed is 244.02260780334473 \n",
      "\n",
      "\n",
      "Model DecisionTreeClassifier()\n",
      "No Scaling !!!\n",
      "Accuracy train: 100.000%\tAccuracy test: 99.985%\n",
      "Times model DecisionTreeClassifier() needed is 19.79703950881958 \n",
      "\n",
      "\n",
      "Model KNeighborsClassifier()\n",
      "No Scaling !!!\n",
      "Accuracy train: 99.986%\tAccuracy test: 99.977%\n",
      "Times model KNeighborsClassifier() needed is 660.7008304595947 \n",
      "\n",
      "\n"
     ]
    },
    {
     "data": {
      "text/html": [
       "<div>\n",
       "<style scoped>\n",
       "    .dataframe tbody tr th:only-of-type {\n",
       "        vertical-align: middle;\n",
       "    }\n",
       "\n",
       "    .dataframe tbody tr th {\n",
       "        vertical-align: top;\n",
       "    }\n",
       "\n",
       "    .dataframe thead th {\n",
       "        text-align: right;\n",
       "    }\n",
       "</style>\n",
       "<table border=\"1\" class=\"dataframe\">\n",
       "  <thead>\n",
       "    <tr style=\"text-align: right;\">\n",
       "      <th></th>\n",
       "      <th>Model</th>\n",
       "      <th>Train score</th>\n",
       "      <th>Test score</th>\n",
       "    </tr>\n",
       "  </thead>\n",
       "  <tbody>\n",
       "    <tr>\n",
       "      <th>0</th>\n",
       "      <td>LogisticRegression()</td>\n",
       "      <td>0.876864</td>\n",
       "      <td>0.876805</td>\n",
       "    </tr>\n",
       "    <tr>\n",
       "      <th>1</th>\n",
       "      <td>SGDClassifier()</td>\n",
       "      <td>0.864143</td>\n",
       "      <td>0.864626</td>\n",
       "    </tr>\n",
       "    <tr>\n",
       "      <th>2</th>\n",
       "      <td>LinearSVC()</td>\n",
       "      <td>0.733744</td>\n",
       "      <td>0.732339</td>\n",
       "    </tr>\n",
       "    <tr>\n",
       "      <th>3</th>\n",
       "      <td>DecisionTreeClassifier()</td>\n",
       "      <td>1.000000</td>\n",
       "      <td>0.999848</td>\n",
       "    </tr>\n",
       "    <tr>\n",
       "      <th>4</th>\n",
       "      <td>KNeighborsClassifier()</td>\n",
       "      <td>0.999858</td>\n",
       "      <td>0.999767</td>\n",
       "    </tr>\n",
       "  </tbody>\n",
       "</table>\n",
       "</div>"
      ],
      "text/plain": [
       "                      Model  Train score  Test score\n",
       "0      LogisticRegression()     0.876864    0.876805\n",
       "1           SGDClassifier()     0.864143    0.864626\n",
       "2               LinearSVC()     0.733744    0.732339\n",
       "3  DecisionTreeClassifier()     1.000000    0.999848\n",
       "4    KNeighborsClassifier()     0.999858    0.999767"
      ]
     },
     "execution_count": 32,
     "metadata": {},
     "output_type": "execute_result"
    }
   ],
   "source": [
    "scores = []\n",
    "for clf in clfs:\n",
    "    print(f'Model {clf}')\n",
    "    start = time.time()\n",
    "    train_score, test_score = train_split(clf, X, y, 0.2, 42, scaler=False)\n",
    "    end = time.time()\n",
    "    print(f\"Times model {clf} needed is {end-start} \\n\\n\")\n",
    "    scores.append({\n",
    "        'Model':clf,\n",
    "        'Train score': train_score,\n",
    "        'Test score': test_score\n",
    "    })\n",
    "    \n",
    "    results = pd.DataFrame(scores)\n",
    "    \n",
    "results.head()"
   ]
  },
  {
   "cell_type": "markdown",
   "metadata": {},
   "source": [
    "#### b. using Kfold"
   ]
  },
  {
   "cell_type": "code",
   "execution_count": 33,
   "metadata": {
    "scrolled": false
   },
   "outputs": [
    {
     "name": "stdout",
     "output_type": "stream",
     "text": [
      "Model LogisticRegression()\n",
      "No Scaling !!!\n"
     ]
    },
    {
     "name": "stderr",
     "output_type": "stream",
     "text": [
      "C:\\Users\\acer\\Anaconda3\\envs\\python\\lib\\site-packages\\sklearn\\model_selection\\_split.py:297: FutureWarning: Setting a random_state has no effect since shuffle is False. This will raise an error in 0.24. You should leave random_state to its default (None), or set shuffle=True.\n",
      "  FutureWarning\n"
     ]
    },
    {
     "name": "stdout",
     "output_type": "stream",
     "text": [
      "Accuracy : 93.135% (0.193%)\n",
      "Times model LogisticRegression() needed is 15.35471248626709\n",
      "\n",
      "Model SGDClassifier()\n",
      "No Scaling !!!\n",
      "Accuracy : 92.940% (0.730%)\n",
      "Times model SGDClassifier() needed is 62.7983193397522\n",
      "\n",
      "Model LinearSVC()\n",
      "No Scaling !!!\n",
      "Accuracy : 89.608% (0.760%)\n",
      "Times model LinearSVC() needed is 2188.7433314323425\n",
      "\n",
      "Model DecisionTreeClassifier()\n",
      "No Scaling !!!\n",
      "Accuracy : 99.990% (0.001%)\n",
      "Times model DecisionTreeClassifier() needed is 25.7846622467041\n",
      "\n",
      "Model KNeighborsClassifier()\n",
      "No Scaling !!!\n",
      "Accuracy : 99.993% (0.002%)\n",
      "Times model KNeighborsClassifier() needed is 130.13588118553162\n",
      "\n"
     ]
    },
    {
     "data": {
      "text/html": [
       "<div>\n",
       "<style scoped>\n",
       "    .dataframe tbody tr th:only-of-type {\n",
       "        vertical-align: middle;\n",
       "    }\n",
       "\n",
       "    .dataframe tbody tr th {\n",
       "        vertical-align: top;\n",
       "    }\n",
       "\n",
       "    .dataframe thead th {\n",
       "        text-align: right;\n",
       "    }\n",
       "</style>\n",
       "<table border=\"1\" class=\"dataframe\">\n",
       "  <thead>\n",
       "    <tr style=\"text-align: right;\">\n",
       "      <th></th>\n",
       "      <th>Model</th>\n",
       "      <th>Mean score</th>\n",
       "      <th>STD score</th>\n",
       "    </tr>\n",
       "  </thead>\n",
       "  <tbody>\n",
       "    <tr>\n",
       "      <th>0</th>\n",
       "      <td>LogisticRegression()</td>\n",
       "      <td>0.931351</td>\n",
       "      <td>0.001935</td>\n",
       "    </tr>\n",
       "    <tr>\n",
       "      <th>1</th>\n",
       "      <td>SGDClassifier()</td>\n",
       "      <td>0.929397</td>\n",
       "      <td>0.007300</td>\n",
       "    </tr>\n",
       "    <tr>\n",
       "      <th>2</th>\n",
       "      <td>LinearSVC()</td>\n",
       "      <td>0.896078</td>\n",
       "      <td>0.007602</td>\n",
       "    </tr>\n",
       "    <tr>\n",
       "      <th>3</th>\n",
       "      <td>DecisionTreeClassifier()</td>\n",
       "      <td>0.999897</td>\n",
       "      <td>0.000008</td>\n",
       "    </tr>\n",
       "    <tr>\n",
       "      <th>4</th>\n",
       "      <td>KNeighborsClassifier()</td>\n",
       "      <td>0.999927</td>\n",
       "      <td>0.000024</td>\n",
       "    </tr>\n",
       "  </tbody>\n",
       "</table>\n",
       "</div>"
      ],
      "text/plain": [
       "                      Model  Mean score  STD score\n",
       "0      LogisticRegression()    0.931351   0.001935\n",
       "1           SGDClassifier()    0.929397   0.007300\n",
       "2               LinearSVC()    0.896078   0.007602\n",
       "3  DecisionTreeClassifier()    0.999897   0.000008\n",
       "4    KNeighborsClassifier()    0.999927   0.000024"
      ]
     },
     "execution_count": 33,
     "metadata": {},
     "output_type": "execute_result"
    }
   ],
   "source": [
    "scores = []\n",
    "for clf in clfs:\n",
    "    print(f'Model {clf}')\n",
    "    start = time.time()\n",
    "    mean, std = model_cross_valid(clf, X, y, 5, 42, imbalanced=False)\n",
    "    end = time.time()\n",
    "    print(f\"Times model {clf} needed is {end-start}\\n\")\n",
    "    scores.append({\n",
    "        'Model':clf,\n",
    "        'Mean score': mean,\n",
    "        'STD score': std\n",
    "    })\n",
    "    \n",
    "    results = pd.DataFrame(scores)\n",
    "    \n",
    "results.head()"
   ]
  },
  {
   "cell_type": "markdown",
   "metadata": {},
   "source": [
    "#### c. Using Shuffle Split"
   ]
  },
  {
   "cell_type": "code",
   "execution_count": 34,
   "metadata": {
    "scrolled": false
   },
   "outputs": [
    {
     "name": "stdout",
     "output_type": "stream",
     "text": [
      "Model LogisticRegression()\n",
      "No Scaling !!!\n"
     ]
    },
    {
     "name": "stderr",
     "output_type": "stream",
     "text": [
      "C:\\Users\\acer\\Anaconda3\\envs\\python\\lib\\site-packages\\sklearn\\model_selection\\_split.py:297: FutureWarning: Setting a random_state has no effect since shuffle is False. This will raise an error in 0.24. You should leave random_state to its default (None), or set shuffle=True.\n",
      "  FutureWarning\n"
     ]
    },
    {
     "name": "stdout",
     "output_type": "stream",
     "text": [
      "Accuracy : 93.058% (0.229%)\n",
      "Times model LogisticRegression() needed is 12.036538124084473\n",
      "\n",
      "Model SGDClassifier()\n",
      "No Scaling !!!\n"
     ]
    },
    {
     "name": "stderr",
     "output_type": "stream",
     "text": [
      "C:\\Users\\acer\\Anaconda3\\envs\\python\\lib\\site-packages\\sklearn\\model_selection\\_split.py:297: FutureWarning: Setting a random_state has no effect since shuffle is False. This will raise an error in 0.24. You should leave random_state to its default (None), or set shuffle=True.\n",
      "  FutureWarning\n"
     ]
    },
    {
     "name": "stdout",
     "output_type": "stream",
     "text": [
      "Accuracy : 89.781% (6.185%)\n",
      "Times model SGDClassifier() needed is 49.836458921432495\n",
      "\n",
      "Model LinearSVC()\n",
      "No Scaling !!!\n"
     ]
    },
    {
     "name": "stderr",
     "output_type": "stream",
     "text": [
      "C:\\Users\\acer\\Anaconda3\\envs\\python\\lib\\site-packages\\sklearn\\model_selection\\_split.py:297: FutureWarning: Setting a random_state has no effect since shuffle is False. This will raise an error in 0.24. You should leave random_state to its default (None), or set shuffle=True.\n",
      "  FutureWarning\n"
     ]
    },
    {
     "name": "stdout",
     "output_type": "stream",
     "text": [
      "Accuracy : 79.251% (6.955%)\n",
      "Times model LinearSVC() needed is 329.76363611221313\n",
      "\n",
      "Model DecisionTreeClassifier()\n",
      "No Scaling !!!\n"
     ]
    },
    {
     "name": "stderr",
     "output_type": "stream",
     "text": [
      "C:\\Users\\acer\\Anaconda3\\envs\\python\\lib\\site-packages\\sklearn\\model_selection\\_split.py:297: FutureWarning: Setting a random_state has no effect since shuffle is False. This will raise an error in 0.24. You should leave random_state to its default (None), or set shuffle=True.\n",
      "  FutureWarning\n"
     ]
    },
    {
     "name": "stdout",
     "output_type": "stream",
     "text": [
      "Accuracy : 99.988% (0.002%)\n",
      "Times model DecisionTreeClassifier() needed is 35.09681057929993\n",
      "\n",
      "Model KNeighborsClassifier()\n",
      "No Scaling !!!\n"
     ]
    },
    {
     "name": "stderr",
     "output_type": "stream",
     "text": [
      "C:\\Users\\acer\\Anaconda3\\envs\\python\\lib\\site-packages\\sklearn\\model_selection\\_split.py:297: FutureWarning: Setting a random_state has no effect since shuffle is False. This will raise an error in 0.24. You should leave random_state to its default (None), or set shuffle=True.\n",
      "  FutureWarning\n"
     ]
    },
    {
     "name": "stdout",
     "output_type": "stream",
     "text": [
      "Accuracy : 99.993% (0.002%)\n",
      "Times model KNeighborsClassifier() needed is 178.34574580192566\n",
      "\n"
     ]
    },
    {
     "data": {
      "text/html": [
       "<div>\n",
       "<style scoped>\n",
       "    .dataframe tbody tr th:only-of-type {\n",
       "        vertical-align: middle;\n",
       "    }\n",
       "\n",
       "    .dataframe tbody tr th {\n",
       "        vertical-align: top;\n",
       "    }\n",
       "\n",
       "    .dataframe thead th {\n",
       "        text-align: right;\n",
       "    }\n",
       "</style>\n",
       "<table border=\"1\" class=\"dataframe\">\n",
       "  <thead>\n",
       "    <tr style=\"text-align: right;\">\n",
       "      <th></th>\n",
       "      <th>Model</th>\n",
       "      <th>Mean score</th>\n",
       "      <th>STD score</th>\n",
       "    </tr>\n",
       "  </thead>\n",
       "  <tbody>\n",
       "    <tr>\n",
       "      <th>0</th>\n",
       "      <td>LogisticRegression()</td>\n",
       "      <td>0.930578</td>\n",
       "      <td>0.002289</td>\n",
       "    </tr>\n",
       "    <tr>\n",
       "      <th>1</th>\n",
       "      <td>SGDClassifier()</td>\n",
       "      <td>0.897813</td>\n",
       "      <td>0.061847</td>\n",
       "    </tr>\n",
       "    <tr>\n",
       "      <th>2</th>\n",
       "      <td>LinearSVC()</td>\n",
       "      <td>0.792510</td>\n",
       "      <td>0.069551</td>\n",
       "    </tr>\n",
       "    <tr>\n",
       "      <th>3</th>\n",
       "      <td>DecisionTreeClassifier()</td>\n",
       "      <td>0.999883</td>\n",
       "      <td>0.000024</td>\n",
       "    </tr>\n",
       "    <tr>\n",
       "      <th>4</th>\n",
       "      <td>KNeighborsClassifier()</td>\n",
       "      <td>0.999927</td>\n",
       "      <td>0.000023</td>\n",
       "    </tr>\n",
       "  </tbody>\n",
       "</table>\n",
       "</div>"
      ],
      "text/plain": [
       "                      Model  Mean score  STD score\n",
       "0      LogisticRegression()    0.930578   0.002289\n",
       "1           SGDClassifier()    0.897813   0.061847\n",
       "2               LinearSVC()    0.792510   0.069551\n",
       "3  DecisionTreeClassifier()    0.999883   0.000024\n",
       "4    KNeighborsClassifier()    0.999927   0.000023"
      ]
     },
     "execution_count": 34,
     "metadata": {},
     "output_type": "execute_result"
    }
   ],
   "source": [
    "scores = []\n",
    "for clf in clfs:\n",
    "    print(f'Model {clf}')\n",
    "    start = time.time()\n",
    "    mean, std = model_cross_valid(clf, X, y, 5, 42, imbalanced=True)\n",
    "    end = time.time()\n",
    "    print(f\"Times model {clf} needed is {end-start}\\n\")\n",
    "    scores.append({\n",
    "        'Model':clf,\n",
    "        'Mean score': mean,\n",
    "        'STD score': std\n",
    "    })\n",
    "    \n",
    "    results = pd.DataFrame(scores)\n",
    "    \n",
    "results.head()"
   ]
  },
  {
   "cell_type": "markdown",
   "metadata": {},
   "source": [
    "### 2. With Feature Selection"
   ]
  },
  {
   "cell_type": "code",
   "execution_count": 36,
   "metadata": {},
   "outputs": [
    {
     "name": "stdout",
     "output_type": "stream",
     "text": [
      "Features Selected V4 : 149945.0650510353\n",
      "Features Selected V7 : 24233.503641504292\n",
      "Features Selected V8 : 28344.110756040882\n",
      "Features Selected V14 : 93068.32927722816\n",
      "Features Selected V17 : 105348.0001118564\n",
      "Features Selected V18 : 46122.70711866196\n"
     ]
    },
    {
     "data": {
      "image/png": "[encoded data removed]",
      "text/plain": [
       "<Figure size 432x288 with 1 Axes>"
      ]
     },
     "metadata": {
      "needs_background": "light"
     },
     "output_type": "display_data"
    }
   ],
   "source": [
    "## Finding features\n",
    "X = df_balanced_data.drop(['Time','Class'], axis=1)\n",
    "y = df_balanced_data['Class'].values\n",
    "features_selected = feature_selection(X, y, f_classif)\n",
    "## modified attribute after get features selected\n",
    "\n",
    "X = df_balanced_data[features_selected]\n",
    "y = df_balanced_data['Class'].values"
   ]
  },
  {
   "cell_type": "code",
   "execution_count": 37,
   "metadata": {},
   "outputs": [
    {
     "data": {
      "text/html": [
       "<div>\n",
       "<style scoped>\n",
       "    .dataframe tbody tr th:only-of-type {\n",
       "        vertical-align: middle;\n",
       "    }\n",
       "\n",
       "    .dataframe tbody tr th {\n",
       "        vertical-align: top;\n",
       "    }\n",
       "\n",
       "    .dataframe thead th {\n",
       "        text-align: right;\n",
       "    }\n",
       "</style>\n",
       "<table border=\"1\" class=\"dataframe\">\n",
       "  <thead>\n",
       "    <tr style=\"text-align: right;\">\n",
       "      <th></th>\n",
       "      <th>V4</th>\n",
       "      <th>V7</th>\n",
       "      <th>V8</th>\n",
       "      <th>V14</th>\n",
       "      <th>V17</th>\n",
       "      <th>V18</th>\n",
       "    </tr>\n",
       "  </thead>\n",
       "  <tbody>\n",
       "    <tr>\n",
       "      <th>93486</th>\n",
       "      <td>2.755369</td>\n",
       "      <td>-0.042848</td>\n",
       "      <td>0.246625</td>\n",
       "      <td>-1.633472</td>\n",
       "      <td>1.593529</td>\n",
       "      <td>1.178468</td>\n",
       "    </tr>\n",
       "    <tr>\n",
       "      <th>145800</th>\n",
       "      <td>2.786750</td>\n",
       "      <td>1.600027</td>\n",
       "      <td>-0.117427</td>\n",
       "      <td>-0.429212</td>\n",
       "      <td>1.679986</td>\n",
       "      <td>1.315339</td>\n",
       "    </tr>\n",
       "    <tr>\n",
       "      <th>214775</th>\n",
       "      <td>-0.203459</td>\n",
       "      <td>-0.076548</td>\n",
       "      <td>-0.992260</td>\n",
       "      <td>1.065262</td>\n",
       "      <td>-0.223768</td>\n",
       "      <td>0.768370</td>\n",
       "    </tr>\n",
       "    <tr>\n",
       "      <th>9991</th>\n",
       "      <td>2.943149</td>\n",
       "      <td>-0.527593</td>\n",
       "      <td>0.021167</td>\n",
       "      <td>0.850777</td>\n",
       "      <td>0.266961</td>\n",
       "      <td>-0.028494</td>\n",
       "    </tr>\n",
       "    <tr>\n",
       "      <th>68067</th>\n",
       "      <td>0.847753</td>\n",
       "      <td>1.448868</td>\n",
       "      <td>0.023308</td>\n",
       "      <td>0.578869</td>\n",
       "      <td>-0.119204</td>\n",
       "      <td>0.826814</td>\n",
       "    </tr>\n",
       "    <tr>\n",
       "      <th>...</th>\n",
       "      <td>...</td>\n",
       "      <td>...</td>\n",
       "      <td>...</td>\n",
       "      <td>...</td>\n",
       "      <td>...</td>\n",
       "      <td>...</td>\n",
       "    </tr>\n",
       "    <tr>\n",
       "      <th>153535</th>\n",
       "      <td>0.843921</td>\n",
       "      <td>1.645614</td>\n",
       "      <td>-0.710786</td>\n",
       "      <td>1.584221</td>\n",
       "      <td>0.491166</td>\n",
       "      <td>-0.270864</td>\n",
       "    </tr>\n",
       "    <tr>\n",
       "      <th>50537</th>\n",
       "      <td>-1.255593</td>\n",
       "      <td>0.059110</td>\n",
       "      <td>-0.003153</td>\n",
       "      <td>-0.499350</td>\n",
       "      <td>-0.207707</td>\n",
       "      <td>0.380542</td>\n",
       "    </tr>\n",
       "    <tr>\n",
       "      <th>4145</th>\n",
       "      <td>-0.662129</td>\n",
       "      <td>-0.791182</td>\n",
       "      <td>0.045097</td>\n",
       "      <td>1.590822</td>\n",
       "      <td>0.884261</td>\n",
       "      <td>-1.083580</td>\n",
       "    </tr>\n",
       "    <tr>\n",
       "      <th>42567</th>\n",
       "      <td>-0.712916</td>\n",
       "      <td>0.761594</td>\n",
       "      <td>-0.244946</td>\n",
       "      <td>-0.725447</td>\n",
       "      <td>-0.720362</td>\n",
       "      <td>-0.673849</td>\n",
       "    </tr>\n",
       "    <tr>\n",
       "      <th>195975</th>\n",
       "      <td>-1.021584</td>\n",
       "      <td>0.144065</td>\n",
       "      <td>-0.481528</td>\n",
       "      <td>0.335955</td>\n",
       "      <td>0.336492</td>\n",
       "      <td>-1.739586</td>\n",
       "    </tr>\n",
       "  </tbody>\n",
       "</table>\n",
       "<p>493886 rows × 6 columns</p>\n",
       "</div>"
      ],
      "text/plain": [
       "              V4        V7        V8       V14       V17       V18\n",
       "93486   2.755369 -0.042848  0.246625 -1.633472  1.593529  1.178468\n",
       "145800  2.786750  1.600027 -0.117427 -0.429212  1.679986  1.315339\n",
       "214775 -0.203459 -0.076548 -0.992260  1.065262 -0.223768  0.768370\n",
       "9991    2.943149 -0.527593  0.021167  0.850777  0.266961 -0.028494\n",
       "68067   0.847753  1.448868  0.023308  0.578869 -0.119204  0.826814\n",
       "...          ...       ...       ...       ...       ...       ...\n",
       "153535  0.843921  1.645614 -0.710786  1.584221  0.491166 -0.270864\n",
       "50537  -1.255593  0.059110 -0.003153 -0.499350 -0.207707  0.380542\n",
       "4145   -0.662129 -0.791182  0.045097  1.590822  0.884261 -1.083580\n",
       "42567  -0.712916  0.761594 -0.244946 -0.725447 -0.720362 -0.673849\n",
       "195975 -1.021584  0.144065 -0.481528  0.335955  0.336492 -1.739586\n",
       "\n",
       "[493886 rows x 6 columns]"
      ]
     },
     "execution_count": 37,
     "metadata": {},
     "output_type": "execute_result"
    }
   ],
   "source": [
    "X"
   ]
  },
  {
   "cell_type": "markdown",
   "metadata": {},
   "source": [
    "#### a. using func train_split"
   ]
  },
  {
   "cell_type": "code",
   "execution_count": 38,
   "metadata": {},
   "outputs": [
    {
     "name": "stdout",
     "output_type": "stream",
     "text": [
      "Model LogisticRegression()\n",
      "No Scaling !!!\n",
      "Accuracy train: 81.479%\tAccuracy test: 81.561%\n",
      "Times model LogisticRegression() needed is 0.7953472137451172 \n",
      "\n",
      "\n",
      "Model SGDClassifier()\n",
      "No Scaling !!!\n",
      "Accuracy train: 83.814%\tAccuracy test: 83.822%\n",
      "Times model SGDClassifier() needed is 0.9755268096923828 \n",
      "\n",
      "\n",
      "Model LinearSVC()\n",
      "No Scaling !!!\n",
      "Accuracy train: 81.597%\tAccuracy test: 81.661%\n",
      "Times model LinearSVC() needed is 59.650803565979004 \n",
      "\n",
      "\n",
      "Model DecisionTreeClassifier()\n",
      "No Scaling !!!\n",
      "Accuracy train: 100.000%\tAccuracy test: 99.991%\n",
      "Times model DecisionTreeClassifier() needed is 2.036733865737915 \n",
      "\n",
      "\n",
      "Model KNeighborsClassifier()\n",
      "No Scaling !!!\n",
      "Accuracy train: 99.983%\tAccuracy test: 99.975%\n",
      "Times model KNeighborsClassifier() needed is 104.45200943946838 \n",
      "\n",
      "\n"
     ]
    },
    {
     "data": {
      "text/html": [
       "<div>\n",
       "<style scoped>\n",
       "    .dataframe tbody tr th:only-of-type {\n",
       "        vertical-align: middle;\n",
       "    }\n",
       "\n",
       "    .dataframe tbody tr th {\n",
       "        vertical-align: top;\n",
       "    }\n",
       "\n",
       "    .dataframe thead th {\n",
       "        text-align: right;\n",
       "    }\n",
       "</style>\n",
       "<table border=\"1\" class=\"dataframe\">\n",
       "  <thead>\n",
       "    <tr style=\"text-align: right;\">\n",
       "      <th></th>\n",
       "      <th>Model</th>\n",
       "      <th>Train score</th>\n",
       "      <th>Test score</th>\n",
       "    </tr>\n",
       "  </thead>\n",
       "  <tbody>\n",
       "    <tr>\n",
       "      <th>0</th>\n",
       "      <td>LogisticRegression()</td>\n",
       "      <td>0.814790</td>\n",
       "      <td>0.815607</td>\n",
       "    </tr>\n",
       "    <tr>\n",
       "      <th>1</th>\n",
       "      <td>SGDClassifier()</td>\n",
       "      <td>0.838143</td>\n",
       "      <td>0.838223</td>\n",
       "    </tr>\n",
       "    <tr>\n",
       "      <th>2</th>\n",
       "      <td>LinearSVC()</td>\n",
       "      <td>0.815974</td>\n",
       "      <td>0.816609</td>\n",
       "    </tr>\n",
       "    <tr>\n",
       "      <th>3</th>\n",
       "      <td>DecisionTreeClassifier()</td>\n",
       "      <td>1.000000</td>\n",
       "      <td>0.999909</td>\n",
       "    </tr>\n",
       "    <tr>\n",
       "      <th>4</th>\n",
       "      <td>KNeighborsClassifier()</td>\n",
       "      <td>0.999830</td>\n",
       "      <td>0.999747</td>\n",
       "    </tr>\n",
       "  </tbody>\n",
       "</table>\n",
       "</div>"
      ],
      "text/plain": [
       "                      Model  Train score  Test score\n",
       "0      LogisticRegression()     0.814790    0.815607\n",
       "1           SGDClassifier()     0.838143    0.838223\n",
       "2               LinearSVC()     0.815974    0.816609\n",
       "3  DecisionTreeClassifier()     1.000000    0.999909\n",
       "4    KNeighborsClassifier()     0.999830    0.999747"
      ]
     },
     "execution_count": 38,
     "metadata": {},
     "output_type": "execute_result"
    }
   ],
   "source": [
    "scores = []\n",
    "for clf in clfs:\n",
    "    print(f'Model {clf}')\n",
    "    start = time.time()\n",
    "    train_score, test_score = train_split(clf, X, y, 0.2, 42, scaler=False)\n",
    "    end = time.time()\n",
    "    print(f\"Times model {clf} needed is {end-start} \\n\\n\")\n",
    "    scores.append({\n",
    "        'Model':clf,\n",
    "        'Train score': train_score,\n",
    "        'Test score': test_score\n",
    "    })\n",
    "    \n",
    "    results = pd.DataFrame(scores)\n",
    "    \n",
    "results.head()"
   ]
  },
  {
   "cell_type": "markdown",
   "metadata": {},
   "source": [
    "#### b. using Kfold"
   ]
  },
  {
   "cell_type": "code",
   "execution_count": 39,
   "metadata": {},
   "outputs": [
    {
     "name": "stdout",
     "output_type": "stream",
     "text": [
      "Model LogisticRegression()\n",
      "No Scaling !!!\n"
     ]
    },
    {
     "name": "stderr",
     "output_type": "stream",
     "text": [
      "C:\\Users\\acer\\Anaconda3\\envs\\python\\lib\\site-packages\\sklearn\\model_selection\\_split.py:297: FutureWarning: Setting a random_state has no effect since shuffle is False. This will raise an error in 0.24. You should leave random_state to its default (None), or set shuffle=True.\n",
      "  FutureWarning\n"
     ]
    },
    {
     "name": "stdout",
     "output_type": "stream",
     "text": [
      "Accuracy : 89.985% (0.093%)\n",
      "Times model LogisticRegression() needed is 5.2320146560668945\n",
      "\n",
      "Model SGDClassifier()\n",
      "No Scaling !!!\n",
      "Accuracy : 89.559% (0.113%)\n",
      "Times model SGDClassifier() needed is 4.03235650062561\n",
      "\n",
      "Model LinearSVC()\n",
      "No Scaling !!!\n",
      "Accuracy : 89.956% (0.093%)\n",
      "Times model LinearSVC() needed is 110.47780394554138\n",
      "\n",
      "Model DecisionTreeClassifier()\n",
      "No Scaling !!!\n",
      "Accuracy : 99.990% (0.002%)\n",
      "Times model DecisionTreeClassifier() needed is 7.289883136749268\n",
      "\n",
      "Model KNeighborsClassifier()\n",
      "No Scaling !!!\n",
      "Accuracy : 99.991% (0.003%)\n",
      "Times model KNeighborsClassifier() needed is 44.20583987236023\n",
      "\n"
     ]
    },
    {
     "data": {
      "text/html": [
       "<div>\n",
       "<style scoped>\n",
       "    .dataframe tbody tr th:only-of-type {\n",
       "        vertical-align: middle;\n",
       "    }\n",
       "\n",
       "    .dataframe tbody tr th {\n",
       "        vertical-align: top;\n",
       "    }\n",
       "\n",
       "    .dataframe thead th {\n",
       "        text-align: right;\n",
       "    }\n",
       "</style>\n",
       "<table border=\"1\" class=\"dataframe\">\n",
       "  <thead>\n",
       "    <tr style=\"text-align: right;\">\n",
       "      <th></th>\n",
       "      <th>Model</th>\n",
       "      <th>Mean score</th>\n",
       "      <th>STD score</th>\n",
       "    </tr>\n",
       "  </thead>\n",
       "  <tbody>\n",
       "    <tr>\n",
       "      <th>0</th>\n",
       "      <td>LogisticRegression()</td>\n",
       "      <td>0.899852</td>\n",
       "      <td>0.000928</td>\n",
       "    </tr>\n",
       "    <tr>\n",
       "      <th>1</th>\n",
       "      <td>SGDClassifier()</td>\n",
       "      <td>0.895592</td>\n",
       "      <td>0.001127</td>\n",
       "    </tr>\n",
       "    <tr>\n",
       "      <th>2</th>\n",
       "      <td>LinearSVC()</td>\n",
       "      <td>0.899561</td>\n",
       "      <td>0.000929</td>\n",
       "    </tr>\n",
       "    <tr>\n",
       "      <th>3</th>\n",
       "      <td>DecisionTreeClassifier()</td>\n",
       "      <td>0.999899</td>\n",
       "      <td>0.000022</td>\n",
       "    </tr>\n",
       "    <tr>\n",
       "      <th>4</th>\n",
       "      <td>KNeighborsClassifier()</td>\n",
       "      <td>0.999907</td>\n",
       "      <td>0.000029</td>\n",
       "    </tr>\n",
       "  </tbody>\n",
       "</table>\n",
       "</div>"
      ],
      "text/plain": [
       "                      Model  Mean score  STD score\n",
       "0      LogisticRegression()    0.899852   0.000928\n",
       "1           SGDClassifier()    0.895592   0.001127\n",
       "2               LinearSVC()    0.899561   0.000929\n",
       "3  DecisionTreeClassifier()    0.999899   0.000022\n",
       "4    KNeighborsClassifier()    0.999907   0.000029"
      ]
     },
     "execution_count": 39,
     "metadata": {},
     "output_type": "execute_result"
    }
   ],
   "source": [
    "scores = []\n",
    "for clf in clfs:\n",
    "    print(f'Model {clf}')\n",
    "    start = time.time()\n",
    "    mean, std = model_cross_valid(clf, X, y, 5, 42, imbalanced=False)\n",
    "    end = time.time()\n",
    "    print(f\"Times model {clf} needed is {end-start}\\n\")\n",
    "    scores.append({\n",
    "        'Model':clf,\n",
    "        'Mean score': mean,\n",
    "        'STD score': std\n",
    "    })\n",
    "    \n",
    "    results = pd.DataFrame(scores)\n",
    "    \n",
    "results.head()"
   ]
  },
  {
   "cell_type": "markdown",
   "metadata": {},
   "source": [
    "#### c. Using Shuffle Split"
   ]
  },
  {
   "cell_type": "code",
   "execution_count": 40,
   "metadata": {},
   "outputs": [
    {
     "name": "stdout",
     "output_type": "stream",
     "text": [
      "Model LogisticRegression()\n",
      "No Scaling !!!\n"
     ]
    },
    {
     "name": "stderr",
     "output_type": "stream",
     "text": [
      "C:\\Users\\acer\\Anaconda3\\envs\\python\\lib\\site-packages\\sklearn\\model_selection\\_split.py:297: FutureWarning: Setting a random_state has no effect since shuffle is False. This will raise an error in 0.24. You should leave random_state to its default (None), or set shuffle=True.\n",
      "  FutureWarning\n"
     ]
    },
    {
     "name": "stdout",
     "output_type": "stream",
     "text": [
      "Accuracy : 89.985% (0.094%)\n",
      "Times model LogisticRegression() needed is 2.1628246307373047\n",
      "\n",
      "Model SGDClassifier()\n",
      "No Scaling !!!\n"
     ]
    },
    {
     "name": "stderr",
     "output_type": "stream",
     "text": [
      "C:\\Users\\acer\\Anaconda3\\envs\\python\\lib\\site-packages\\sklearn\\model_selection\\_split.py:297: FutureWarning: Setting a random_state has no effect since shuffle is False. This will raise an error in 0.24. You should leave random_state to its default (None), or set shuffle=True.\n",
      "  FutureWarning\n"
     ]
    },
    {
     "name": "stdout",
     "output_type": "stream",
     "text": [
      "Accuracy : 89.680% (0.118%)\n",
      "Times model SGDClassifier() needed is 2.1125588417053223\n",
      "\n",
      "Model LinearSVC()\n",
      "No Scaling !!!\n"
     ]
    },
    {
     "name": "stderr",
     "output_type": "stream",
     "text": [
      "C:\\Users\\acer\\Anaconda3\\envs\\python\\lib\\site-packages\\sklearn\\model_selection\\_split.py:297: FutureWarning: Setting a random_state has no effect since shuffle is False. This will raise an error in 0.24. You should leave random_state to its default (None), or set shuffle=True.\n",
      "  FutureWarning\n"
     ]
    },
    {
     "name": "stdout",
     "output_type": "stream",
     "text": [
      "Accuracy : 89.956% (0.095%)\n",
      "Times model LinearSVC() needed is 116.65976333618164\n",
      "\n",
      "Model DecisionTreeClassifier()\n",
      "No Scaling !!!\n"
     ]
    },
    {
     "name": "stderr",
     "output_type": "stream",
     "text": [
      "C:\\Users\\acer\\Anaconda3\\envs\\python\\lib\\site-packages\\sklearn\\model_selection\\_split.py:297: FutureWarning: Setting a random_state has no effect since shuffle is False. This will raise an error in 0.24. You should leave random_state to its default (None), or set shuffle=True.\n",
      "  FutureWarning\n"
     ]
    },
    {
     "name": "stdout",
     "output_type": "stream",
     "text": [
      "Accuracy : 99.990% (0.002%)\n",
      "Times model DecisionTreeClassifier() needed is 5.380005598068237\n",
      "\n",
      "Model KNeighborsClassifier()\n",
      "No Scaling !!!\n"
     ]
    },
    {
     "name": "stderr",
     "output_type": "stream",
     "text": [
      "C:\\Users\\acer\\Anaconda3\\envs\\python\\lib\\site-packages\\sklearn\\model_selection\\_split.py:297: FutureWarning: Setting a random_state has no effect since shuffle is False. This will raise an error in 0.24. You should leave random_state to its default (None), or set shuffle=True.\n",
      "  FutureWarning\n"
     ]
    },
    {
     "name": "stdout",
     "output_type": "stream",
     "text": [
      "Accuracy : 99.991% (0.003%)\n",
      "Times model KNeighborsClassifier() needed is 48.834126710891724\n",
      "\n"
     ]
    },
    {
     "data": {
      "text/html": [
       "<div>\n",
       "<style scoped>\n",
       "    .dataframe tbody tr th:only-of-type {\n",
       "        vertical-align: middle;\n",
       "    }\n",
       "\n",
       "    .dataframe tbody tr th {\n",
       "        vertical-align: top;\n",
       "    }\n",
       "\n",
       "    .dataframe thead th {\n",
       "        text-align: right;\n",
       "    }\n",
       "</style>\n",
       "<table border=\"1\" class=\"dataframe\">\n",
       "  <thead>\n",
       "    <tr style=\"text-align: right;\">\n",
       "      <th></th>\n",
       "      <th>Model</th>\n",
       "      <th>Mean score</th>\n",
       "      <th>STD score</th>\n",
       "    </tr>\n",
       "  </thead>\n",
       "  <tbody>\n",
       "    <tr>\n",
       "      <th>0</th>\n",
       "      <td>LogisticRegression()</td>\n",
       "      <td>0.899854</td>\n",
       "      <td>0.000945</td>\n",
       "    </tr>\n",
       "    <tr>\n",
       "      <th>1</th>\n",
       "      <td>SGDClassifier()</td>\n",
       "      <td>0.896804</td>\n",
       "      <td>0.001176</td>\n",
       "    </tr>\n",
       "    <tr>\n",
       "      <th>2</th>\n",
       "      <td>LinearSVC()</td>\n",
       "      <td>0.899560</td>\n",
       "      <td>0.000945</td>\n",
       "    </tr>\n",
       "    <tr>\n",
       "      <th>3</th>\n",
       "      <td>DecisionTreeClassifier()</td>\n",
       "      <td>0.999899</td>\n",
       "      <td>0.000020</td>\n",
       "    </tr>\n",
       "    <tr>\n",
       "      <th>4</th>\n",
       "      <td>KNeighborsClassifier()</td>\n",
       "      <td>0.999907</td>\n",
       "      <td>0.000029</td>\n",
       "    </tr>\n",
       "  </tbody>\n",
       "</table>\n",
       "</div>"
      ],
      "text/plain": [
       "                      Model  Mean score  STD score\n",
       "0      LogisticRegression()    0.899854   0.000945\n",
       "1           SGDClassifier()    0.896804   0.001176\n",
       "2               LinearSVC()    0.899560   0.000945\n",
       "3  DecisionTreeClassifier()    0.999899   0.000020\n",
       "4    KNeighborsClassifier()    0.999907   0.000029"
      ]
     },
     "execution_count": 40,
     "metadata": {},
     "output_type": "execute_result"
    }
   ],
   "source": [
    "scores = []\n",
    "for clf in clfs:\n",
    "    print(f'Model {clf}')\n",
    "    start = time.time()\n",
    "    mean, std = model_cross_valid(clf, X, y, 5, 42, imbalanced=True)\n",
    "    end = time.time()\n",
    "    print(f\"Times model {clf} needed is {end-start}\\n\")\n",
    "    scores.append({\n",
    "        'Model':clf,\n",
    "        'Mean score': mean,\n",
    "        'STD score': std\n",
    "    })\n",
    "    \n",
    "    results = pd.DataFrame(scores)\n",
    "    \n",
    "results.head()"
   ]
  },
  {
   "cell_type": "markdown",
   "metadata": {},
   "source": [
    "Dari semua percobaan dari menggunakan data yang imbalance data dan balance data, juga menggnakan feature selection atau tidak didapatkan algoritma yang tepat untuk kasus ini yaitu Logistic Regression"
   ]
  },
  {
   "cell_type": "code",
   "execution_count": 41,
   "metadata": {},
   "outputs": [
    {
     "name": "stdout",
     "output_type": "stream",
     "text": [
      "Model LogisticRegression()\n",
      "No Scaling !!!\n",
      "Scaling !!!\n"
     ]
    },
    {
     "name": "stderr",
     "output_type": "stream",
     "text": [
      "C:\\Users\\acer\\Anaconda3\\envs\\python\\lib\\site-packages\\sklearn\\model_selection\\_split.py:297: FutureWarning: Setting a random_state has no effect since shuffle is False. This will raise an error in 0.24. You should leave random_state to its default (None), or set shuffle=True.\n",
      "  FutureWarning\n"
     ]
    },
    {
     "name": "stdout",
     "output_type": "stream",
     "text": [
      "Accuracy : 89.985% (0.094%)\n",
      "Times model LogisticRegression() needed is 4.205393075942993\n",
      "\n",
      "Model SGDClassifier()\n",
      "No Scaling !!!\n",
      "Scaling !!!\n"
     ]
    },
    {
     "name": "stderr",
     "output_type": "stream",
     "text": [
      "C:\\Users\\acer\\Anaconda3\\envs\\python\\lib\\site-packages\\sklearn\\model_selection\\_split.py:297: FutureWarning: Setting a random_state has no effect since shuffle is False. This will raise an error in 0.24. You should leave random_state to its default (None), or set shuffle=True.\n",
      "  FutureWarning\n"
     ]
    },
    {
     "name": "stdout",
     "output_type": "stream",
     "text": [
      "Accuracy : 89.687% (0.138%)\n",
      "Times model SGDClassifier() needed is 3.4286081790924072\n",
      "\n",
      "Model LinearSVC()\n",
      "No Scaling !!!\n",
      "Scaling !!!\n"
     ]
    },
    {
     "name": "stderr",
     "output_type": "stream",
     "text": [
      "C:\\Users\\acer\\Anaconda3\\envs\\python\\lib\\site-packages\\sklearn\\model_selection\\_split.py:297: FutureWarning: Setting a random_state has no effect since shuffle is False. This will raise an error in 0.24. You should leave random_state to its default (None), or set shuffle=True.\n",
      "  FutureWarning\n"
     ]
    },
    {
     "name": "stdout",
     "output_type": "stream",
     "text": [
      "Accuracy : 89.956% (0.095%)\n",
      "Times model LinearSVC() needed is 167.85630798339844\n",
      "\n",
      "Model DecisionTreeClassifier()\n",
      "No Scaling !!!\n",
      "Scaling !!!\n"
     ]
    },
    {
     "name": "stderr",
     "output_type": "stream",
     "text": [
      "C:\\Users\\acer\\Anaconda3\\envs\\python\\lib\\site-packages\\sklearn\\model_selection\\_split.py:297: FutureWarning: Setting a random_state has no effect since shuffle is False. This will raise an error in 0.24. You should leave random_state to its default (None), or set shuffle=True.\n",
      "  FutureWarning\n"
     ]
    },
    {
     "name": "stdout",
     "output_type": "stream",
     "text": [
      "Accuracy : 99.991% (0.002%)\n",
      "Times model DecisionTreeClassifier() needed is 5.705568790435791\n",
      "\n",
      "Model KNeighborsClassifier()\n",
      "No Scaling !!!\n",
      "Scaling !!!\n"
     ]
    },
    {
     "name": "stderr",
     "output_type": "stream",
     "text": [
      "C:\\Users\\acer\\Anaconda3\\envs\\python\\lib\\site-packages\\sklearn\\model_selection\\_split.py:297: FutureWarning: Setting a random_state has no effect since shuffle is False. This will raise an error in 0.24. You should leave random_state to its default (None), or set shuffle=True.\n",
      "  FutureWarning\n"
     ]
    },
    {
     "name": "stdout",
     "output_type": "stream",
     "text": [
      "Accuracy : 99.990% (0.002%)\n",
      "Times model KNeighborsClassifier() needed is 45.155160665512085\n",
      "\n"
     ]
    },
    {
     "data": {
      "text/html": [
       "<div>\n",
       "<style scoped>\n",
       "    .dataframe tbody tr th:only-of-type {\n",
       "        vertical-align: middle;\n",
       "    }\n",
       "\n",
       "    .dataframe tbody tr th {\n",
       "        vertical-align: top;\n",
       "    }\n",
       "\n",
       "    .dataframe thead th {\n",
       "        text-align: right;\n",
       "    }\n",
       "</style>\n",
       "<table border=\"1\" class=\"dataframe\">\n",
       "  <thead>\n",
       "    <tr style=\"text-align: right;\">\n",
       "      <th></th>\n",
       "      <th>Model</th>\n",
       "      <th>Mean score</th>\n",
       "      <th>STD score</th>\n",
       "    </tr>\n",
       "  </thead>\n",
       "  <tbody>\n",
       "    <tr>\n",
       "      <th>0</th>\n",
       "      <td>LogisticRegression()</td>\n",
       "      <td>0.899854</td>\n",
       "      <td>0.000944</td>\n",
       "    </tr>\n",
       "    <tr>\n",
       "      <th>1</th>\n",
       "      <td>SGDClassifier()</td>\n",
       "      <td>0.896867</td>\n",
       "      <td>0.001384</td>\n",
       "    </tr>\n",
       "    <tr>\n",
       "      <th>2</th>\n",
       "      <td>LinearSVC()</td>\n",
       "      <td>0.899560</td>\n",
       "      <td>0.000945</td>\n",
       "    </tr>\n",
       "    <tr>\n",
       "      <th>3</th>\n",
       "      <td>DecisionTreeClassifier()</td>\n",
       "      <td>0.999907</td>\n",
       "      <td>0.000020</td>\n",
       "    </tr>\n",
       "    <tr>\n",
       "      <th>4</th>\n",
       "      <td>KNeighborsClassifier()</td>\n",
       "      <td>0.999905</td>\n",
       "      <td>0.000024</td>\n",
       "    </tr>\n",
       "  </tbody>\n",
       "</table>\n",
       "</div>"
      ],
      "text/plain": [
       "                      Model  Mean score  STD score\n",
       "0      LogisticRegression()    0.899854   0.000944\n",
       "1           SGDClassifier()    0.896867   0.001384\n",
       "2               LinearSVC()    0.899560   0.000945\n",
       "3  DecisionTreeClassifier()    0.999907   0.000020\n",
       "4    KNeighborsClassifier()    0.999905   0.000024"
      ]
     },
     "execution_count": 41,
     "metadata": {},
     "output_type": "execute_result"
    }
   ],
   "source": [
    "scores = []\n",
    "for clf in clfs:\n",
    "    print(f'Model {clf}')\n",
    "    start = time.time()\n",
    "    mean, std = model_cross_valid(clf, X, y, 5, 42, imbalanced=True, scaler=True)\n",
    "    end = time.time()\n",
    "    print(f\"Times model {clf} needed is {end-start}\\n\")\n",
    "    scores.append({\n",
    "        'Model':clf,\n",
    "        'Mean score': mean,\n",
    "        'STD score': std\n",
    "    })\n",
    "    \n",
    "    results = pd.DataFrame(scores)\n",
    "    \n",
    "results.head()"
   ]
  },
  {
   "cell_type": "code",
   "execution_count": null,
   "metadata": {},
   "outputs": [],
   "source": []
  }
 ],
 "metadata": {
  "kernelspec": {
   "display_name": "Python 3.6.9 64-bit ('python': conda)",
   "language": "python",
   "name": "python36964bitpythonconda59f1831d5a354de9a6fe3d5f036afed7"
  },
  "language_info": {
   "codemirror_mode": {
    "name": "ipython",
    "version": 3
   },
   "file_extension": ".py",
   "mimetype": "text/x-python",
   "name": "python",
   "nbconvert_exporter": "python",
   "pygments_lexer": "ipython3",
   "version": "3.6.10"
  }
 },
 "nbformat": 4,
 "nbformat_minor": 4
}
